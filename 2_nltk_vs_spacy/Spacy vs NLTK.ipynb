{
  "cells": [
    {
      "cell_type": "markdown",
      "metadata": {
        "id": "AKXivboIQsit"
      },
      "source": [
        "<h3>Installation instructions</h3>"
      ]
    },
    {
      "cell_type": "markdown",
      "metadata": {
        "id": "Th6ZoJNpQsiw"
      },
      "source": [
        "pip install spacy\n",
        "\n",
        "python -m spacy download en\n",
        "\n",
        "en Ingilis dilini temsil edir. Basqa diller ucun de olmus olar."
      ]
    },
    {
      "cell_type": "markdown",
      "metadata": {
        "id": "v4m7efWwQsix"
      },
      "source": [
        "pip install nltk"
      ]
    },
    {
      "cell_type": "markdown",
      "metadata": {
        "id": "MJtLko06Qsiy"
      },
      "source": [
        "<h3>Sentence & Word Tokenization In Spacy</h3>"
      ]
    },
    {
      "cell_type": "code",
      "source": [
        "print('hello')"
      ],
      "metadata": {
        "colab": {
          "base_uri": "https://localhost:8080/"
        },
        "id": "RexYgnMHQv2_",
        "outputId": "72c764f6-4d78-4a91-f62d-394c5ea10fea"
      },
      "execution_count": 6,
      "outputs": [
        {
          "output_type": "stream",
          "name": "stdout",
          "text": [
            "hello\n"
          ]
        }
      ]
    },
    {
      "cell_type": "code",
      "execution_count": 7,
      "metadata": {
        "id": "k_ktqaPEQsiz"
      },
      "outputs": [],
      "source": [
        "import spacy"
      ]
    },
    {
      "cell_type": "code",
      "execution_count": 8,
      "metadata": {
        "id": "RzTGSIZ8Qsi0"
      },
      "outputs": [],
      "source": [
        "# english dilini isledek\n",
        "nlp = spacy.load(\"en_core_web_sm\")\n",
        "\n",
        "# iki cumlelik metn daxil edirik\n",
        "doc = nlp(\"Dr. Strange loves pav bhaji of mumbai. Hulk loves chat of delhi\")"
      ]
    },
    {
      "cell_type": "code",
      "execution_count": 10,
      "metadata": {
        "colab": {
          "base_uri": "https://localhost:8080/"
        },
        "id": "6xAIVhcMQsi1",
        "outputId": "575ecbb8-d691-415f-da14-0bb35f9b0230"
      },
      "outputs": [
        {
          "output_type": "stream",
          "name": "stdout",
          "text": [
            "Dr. Strange loves pav bhaji of mumbai.\n",
            "Hulk loves chat of delhi\n"
          ]
        }
      ],
      "source": [
        "# splitting paragraph into separated sentences. iki cumleni pring edek\n",
        "# burda library ozu ayirir cumlelere. Data biz bir de dene dene Dr. noqtedirse cumleye ayirma sertleri zad yazmiriq.\n",
        "# library ozu bu sertleri edir zaten.\n",
        "for sentence in doc.sents:\n",
        "    print(sentence)"
      ]
    },
    {
      "cell_type": "code",
      "execution_count": 11,
      "metadata": {
        "scrolled": true,
        "colab": {
          "base_uri": "https://localhost:8080/"
        },
        "id": "iQ2DIpeeQsi3",
        "outputId": "58834785-4caa-4345-9569-87e99f26f667"
      },
      "outputs": [
        {
          "output_type": "stream",
          "name": "stdout",
          "text": [
            "Dr.\n",
            "Strange\n",
            "loves\n",
            "pav\n",
            "bhaji\n",
            "of\n",
            "mumbai\n",
            ".\n",
            "Hulk\n",
            "loves\n",
            "chat\n",
            "of\n",
            "delhi\n"
          ]
        }
      ],
      "source": [
        "# cumleni de eyni sekilde librarynin built in komeyi sayesinde sozlere ayiririq\n",
        "for sentence in doc.sents:\n",
        "    for word in sentence:\n",
        "        print(word)"
      ]
    },
    {
      "cell_type": "markdown",
      "metadata": {
        "id": "20kY-n6IQsi4"
      },
      "source": [
        "<h3>Sentence & Word Tokenization In NLTK</h3>"
      ]
    },
    {
      "cell_type": "code",
      "execution_count": 13,
      "metadata": {
        "scrolled": true,
        "colab": {
          "base_uri": "https://localhost:8080/"
        },
        "id": "wgrjg8nkQsi4",
        "outputId": "eef08123-58ed-4982-c1b8-e5ca4d0dded3"
      },
      "outputs": [
        {
          "output_type": "stream",
          "name": "stderr",
          "text": [
            "[nltk_data] Downloading package punkt to /root/nltk_data...\n",
            "[nltk_data]   Package punkt is already up-to-date!\n"
          ]
        },
        {
          "output_type": "execute_result",
          "data": {
            "text/plain": [
              "True"
            ]
          },
          "metadata": {},
          "execution_count": 13
        }
      ],
      "source": [
        "# burda import elediyin tokenizerlerden sadece biridir, coxlu ferqlileri var. ferqleri nedise in the future bileceyik\n",
        "from nltk.tokenize import sent_tokenize\n",
        "import nltk\n",
        "# ilk defe isledende oz kompunda lokalda error ala bilersen punkt download olmayib zad. bunu yaz.\n",
        "# pencese cixacaq orda all sece bilersen.\n",
        "nltk.download('punkt')"
      ]
    },
    {
      "cell_type": "code",
      "execution_count": 14,
      "metadata": {
        "colab": {
          "base_uri": "https://localhost:8080/"
        },
        "id": "pe_twGOmQsi5",
        "outputId": "17fbbb22-f2ca-47c3-e99a-dfec96f7743d"
      },
      "outputs": [
        {
          "output_type": "execute_result",
          "data": {
            "text/plain": [
              "['Dr.', 'Strange loves pav bhaji of mumbai.', 'Hulk loves chat of delhi']"
            ]
          },
          "metadata": {},
          "execution_count": 14
        }
      ],
      "source": [
        "sent_tokenize(\"Dr. Strange loves pav bhaji of mumbai. Hulk loves chat of delhi\")"
      ]
    },
    {
      "cell_type": "code",
      "execution_count": 15,
      "metadata": {
        "id": "HrnK5_Q6Qsi6"
      },
      "outputs": [],
      "source": [
        "from nltk.tokenize import word_tokenize"
      ]
    },
    {
      "cell_type": "code",
      "execution_count": 17,
      "metadata": {
        "scrolled": true,
        "colab": {
          "base_uri": "https://localhost:8080/"
        },
        "id": "75kvvcnCQsi6",
        "outputId": "b6d5f1c1-fa02-41ff-efc2-948e711ff65e"
      },
      "outputs": [
        {
          "output_type": "execute_result",
          "data": {
            "text/plain": [
              "['Dr',\n",
              " '.',\n",
              " 'Strange',\n",
              " 'loves',\n",
              " 'pav',\n",
              " 'bhaji',\n",
              " 'of',\n",
              " 'mumbai',\n",
              " '.',\n",
              " 'Hulk',\n",
              " 'loves',\n",
              " 'chat',\n",
              " 'of',\n",
              " 'delhi']"
            ]
          },
          "metadata": {},
          "execution_count": 17
        }
      ],
      "source": [
        "word_tokenize(\"Dr. Strange loves pav bhaji of mumbai. Hulk loves chat of delhi\")"
      ]
    },
    {
      "cell_type": "code",
      "source": [
        "# baska tokenizer\n",
        "import nltk\n",
        "from nltk.tokenize import regexp_span_tokenize"
      ],
      "metadata": {
        "id": "g2EjZfLNmJZR"
      },
      "execution_count": 19,
      "outputs": []
    },
    {
      "cell_type": "code",
      "source": [
        "regexp_span_tokenize(\"Dr. Strange loves pav bhaji of mumbai. Hulk loves chat of delhi\", regexp=' ')"
      ],
      "metadata": {
        "id": "kgGr59romJbY",
        "outputId": "48838b0d-23b3-4121-da8e-711049b30db2",
        "colab": {
          "base_uri": "https://localhost:8080/"
        }
      },
      "execution_count": 29,
      "outputs": [
        {
          "output_type": "execute_result",
          "data": {
            "text/plain": [
              "<generator object regexp_span_tokenize at 0x7bc9d6ef1620>"
            ]
          },
          "metadata": {},
          "execution_count": 29
        }
      ]
    },
    {
      "cell_type": "code",
      "source": [
        "# bu cur regex ile ozun bolursen meselen bu tokenizerde. Bele muxtelifleri var\n",
        "list(regexp_span_tokenize(\"Dr. Strange loves pav bhaji of mumbai. Hulk loves chat of delhi\", regexp=' '))"
      ],
      "metadata": {
        "id": "Rk69HYf1mh7l",
        "outputId": "3d869966-caec-4256-dd8b-48bc01cf0f43",
        "colab": {
          "base_uri": "https://localhost:8080/"
        }
      },
      "execution_count": 28,
      "outputs": [
        {
          "output_type": "execute_result",
          "data": {
            "text/plain": [
              "[(0, 3),\n",
              " (4, 11),\n",
              " (12, 17),\n",
              " (18, 21),\n",
              " (22, 27),\n",
              " (28, 30),\n",
              " (31, 38),\n",
              " (39, 43),\n",
              " (44, 49),\n",
              " (50, 54),\n",
              " (55, 57),\n",
              " (58, 63)]"
            ]
          },
          "metadata": {},
          "execution_count": 28
        }
      ]
    },
    {
      "cell_type": "markdown",
      "metadata": {
        "id": "c95JX6yGQsi7"
      },
      "source": [
        "**From above code you can see that Spacy is object oriented whereas NLTK is a string processing library**"
      ]
    }
  ],
  "metadata": {
    "kernelspec": {
      "display_name": "Python 3",
      "language": "python",
      "name": "python3"
    },
    "language_info": {
      "codemirror_mode": {
        "name": "ipython",
        "version": 3
      },
      "file_extension": ".py",
      "mimetype": "text/x-python",
      "name": "python",
      "nbconvert_exporter": "python",
      "pygments_lexer": "ipython3",
      "version": "3.8.5"
    },
    "colab": {
      "provenance": []
    }
  },
  "nbformat": 4,
  "nbformat_minor": 0
}