{
  "cells": [
    {
      "cell_type": "markdown",
      "metadata": {
        "id": "Yrci22GYhTQP"
      },
      "source": [
        "###                     **Spacy Language Processing Pipelines: Exercises**"
      ]
    },
    {
      "cell_type": "code",
      "execution_count": 69,
      "metadata": {
        "id": "YUMPkcohhgam"
      },
      "outputs": [],
      "source": [
        "#importing necessary libraries\n",
        "import spacy\n",
        "\n",
        "nlp = spacy.load(\"en_core_web_sm\")  #creating an object and loading the pre-trained model for \"English\""
      ]
    },
    {
      "cell_type": "markdown",
      "metadata": {
        "id": "hxtliEGIh4gS"
      },
      "source": [
        "#### **Excersie: 1**\n",
        "\n",
        "- Get all the proper nouns from a given text in a list and also count how many of them.\n",
        "- **Proper Noun** means a noun that names a particular person, place, or thing."
      ]
    },
    {
      "cell_type": "code",
      "source": [
        "nlp.pipe_names"
      ],
      "metadata": {
        "id": "fzEzb6oSQIUJ",
        "outputId": "2664b8e0-3734-4f5c-cf88-84b9ef936bdd",
        "colab": {
          "base_uri": "https://localhost:8080/"
        }
      },
      "execution_count": 70,
      "outputs": [
        {
          "output_type": "execute_result",
          "data": {
            "text/plain": [
              "['tok2vec', 'tagger', 'parser', 'attribute_ruler', 'lemmatizer', 'ner']"
            ]
          },
          "metadata": {},
          "execution_count": 70
        }
      ]
    },
    {
      "cell_type": "code",
      "execution_count": 71,
      "metadata": {
        "colab": {
          "base_uri": "https://localhost:8080/"
        },
        "id": "lRGfbeEshFf-",
        "outputId": "8ab8373b-6f3b-4859-806e-e02dabb1d1ab"
      },
      "outputs": [
        {
          "output_type": "stream",
          "name": "stdout",
          "text": [
            "Captain                  NOUN             noun\n",
            "is                  AUX             auxiliary\n",
            "huge                  ADJ             adjective\n",
            ".                  PUNCT             punctuation\n",
            "captain                  NOUN             noun\n",
            "is                  AUX             auxiliary\n",
            "awesome                  ADJ             adjective\n",
            ".                  PUNCT             punctuation\n",
            "Captain                  NOUN             noun\n",
            "is                  AUX             auxiliary\n",
            "good                  ADJ             adjective\n",
            ".                  PUNCT             punctuation\n",
            "\n",
            "\n",
            "                      SPACE             space\n",
            "Ravi                  PROPN             proper noun\n",
            "and                  CCONJ             coordinating conjunction\n",
            "Raju                  PROPN             proper noun\n",
            "are                  AUX             auxiliary\n",
            "the                  DET             determiner\n",
            "best                  ADJ             adjective\n",
            "friends                  NOUN             noun\n",
            "from                  ADP             adposition\n",
            "school                  NOUN             noun\n",
            "days                  NOUN             noun\n",
            ".                  PUNCT             punctuation\n",
            "They                  PRON             pronoun\n",
            "wanted                  VERB             verb\n",
            "to                  PART             particle\n",
            "go                  VERB             verb\n",
            "for                  ADP             adposition\n",
            "a                  DET             determiner\n",
            "world                  NOUN             noun\n",
            "tour                  NOUN             noun\n",
            "and                  CCONJ             coordinating conjunction\n",
            "\n",
            "                  SPACE             space\n",
            "visit                  VERB             verb\n",
            "famous                  ADJ             adjective\n",
            "cities                  NOUN             noun\n",
            "like                  ADP             adposition\n",
            "Paris                  PROPN             proper noun\n",
            ",                  PUNCT             punctuation\n",
            "London                  PROPN             proper noun\n",
            ",                  PUNCT             punctuation\n",
            "Dubai                  PROPN             proper noun\n",
            ",                  PUNCT             punctuation\n",
            "Rome                  PROPN             proper noun\n",
            "etc                  X             other\n",
            "and                  CCONJ             coordinating conjunction\n",
            "also                  ADV             adverb\n",
            "they                  PRON             pronoun\n",
            "called                  VERB             verb\n",
            "their                  PRON             pronoun\n",
            "another                  DET             determiner\n",
            "friend                  NOUN             noun\n",
            "Mohan                  PROPN             proper noun\n",
            "to                  PART             particle\n",
            "take                  VERB             verb\n",
            "part                  NOUN             noun\n",
            "of                  ADP             adposition\n",
            "this                  DET             determiner\n",
            "world                  NOUN             noun\n",
            "tour                  NOUN             noun\n",
            ".                  PUNCT             punctuation\n",
            "\n",
            "                  SPACE             space\n",
            "They                  PRON             pronoun\n",
            "started                  VERB             verb\n",
            "their                  PRON             pronoun\n",
            "journey                  NOUN             noun\n",
            "from                  ADP             adposition\n",
            "Hyderabad                  PROPN             proper noun\n",
            "and                  CCONJ             coordinating conjunction\n",
            "spent                  VERB             verb\n",
            "next                  ADV             adverb\n",
            "3                  NUM             numeral\n",
            "months                  NOUN             noun\n",
            "travelling                  VERB             verb\n",
            "all                  DET             determiner\n",
            "the                  DET             determiner\n",
            "wonderful                  ADJ             adjective\n",
            "cities                  NOUN             noun\n",
            "in                  ADP             adposition\n",
            "the                  DET             determiner\n",
            "world                  NOUN             noun\n",
            "and                  CCONJ             coordinating conjunction\n",
            "cherish                  VERB             verb\n",
            "a                  DET             determiner\n",
            "happy                  ADJ             adjective\n",
            "moments                  NOUN             noun\n",
            "!                  PUNCT             punctuation\n",
            "\n",
            "                  SPACE             space\n"
          ]
        }
      ],
      "source": [
        "# burda captain bir insan olmadigi ucun onu saymamagi normaldi. yeni bir novu, basa dusur ki, burda umumi anlayisdan danisilir, xususi ad deyil.\n",
        "text = '''Captain is huge. captain is awesome. Captain is good.\n",
        "\n",
        "    Ravi and Raju are the best friends from school days.They wanted to go for a world tour and\n",
        "visit famous cities like Paris, London, Dubai, Rome etc and also they called their another friend Mohan to take part of this world tour.\n",
        "They started their journey from Hyderabad and spent next 3 months travelling all the wonderful cities in the world and cherish a happy moments!\n",
        "'''\n",
        "\n",
        "# https://spacy.io/usage/linguistic-features\n",
        "\n",
        "#creating the nlp object\n",
        "doc = nlp(text)\n",
        "\n",
        "# first print them for explanation to myself :)\n",
        "for sentence in doc.sents:\n",
        "  for token in sentence:\n",
        "    print(token, '                ', token.pos_ , '           ', spacy.explain(token.pos_))"
      ]
    },
    {
      "cell_type": "code",
      "source": [
        "proper_nouns_list = []\n",
        "count_of_proper_nouns = 0\n",
        "\n",
        "for sentence in doc.sents:\n",
        "  for token in sentence:\n",
        "    if str(spacy.explain(token.pos_)) == 'proper noun':\n",
        "      proper_nouns_list.append(token)\n",
        "\n",
        "count_of_proper_nouns = len(proper_nouns_list)\n",
        "print(proper_nouns_list, count_of_proper_nouns)"
      ],
      "metadata": {
        "id": "eIM1rPgQQyLK",
        "outputId": "7641de05-7013-455a-b9e4-8a30ba0e8f37",
        "colab": {
          "base_uri": "https://localhost:8080/"
        }
      },
      "execution_count": 72,
      "outputs": [
        {
          "output_type": "stream",
          "name": "stdout",
          "text": [
            "[Ravi, Raju, Paris, London, Dubai, Rome, Mohan, Hyderabad] 8\n"
          ]
        }
      ]
    },
    {
      "cell_type": "code",
      "source": [
        "proper_nouns_list = []\n",
        "count_of_proper_nouns = 0\n",
        "\n",
        "for sentence in doc.sents:\n",
        "  for token in sentence:\n",
        "    if str(spacy.explain(token.pos_)) == 'proper noun':\n",
        "      proper_nouns_list.append(token.lemma_)\n",
        "\n",
        "count_of_proper_nouns = len(proper_nouns_list)\n",
        "print('Proper Nouns:', proper_nouns_list, '\\nCount:', count_of_proper_nouns)"
      ],
      "metadata": {
        "id": "loxzY8rsSBWR",
        "outputId": "ecc1964c-f762-4bba-b963-24c20ed0549c",
        "colab": {
          "base_uri": "https://localhost:8080/"
        }
      },
      "execution_count": 73,
      "outputs": [
        {
          "output_type": "stream",
          "name": "stdout",
          "text": [
            "Proper Nouns: ['Ravi', 'Raju', 'Paris', 'London', 'Dubai', 'Rome', 'Mohan', 'Hyderabad'] \n",
            "Count: 8\n"
          ]
        }
      ]
    },
    {
      "cell_type": "code",
      "source": [
        "# short version\n",
        "p_n = [token.lemma_ for sentence in doc.sents for token in sentence if token.pos_ == 'PROPN']\n",
        "print('Proper Nouns:', p_n, '\\nCount:', len(p_n))"
      ],
      "metadata": {
        "id": "w7Yu6bzLXJA6",
        "outputId": "0737aa76-7a2e-4c67-e333-ef6553ee2dc5",
        "colab": {
          "base_uri": "https://localhost:8080/"
        }
      },
      "execution_count": 75,
      "outputs": [
        {
          "output_type": "stream",
          "name": "stdout",
          "text": [
            "Proper Nouns: ['Ravi', 'Raju', 'Paris', 'London', 'Dubai', 'Rome', 'Mohan', 'Hyderabad'] \n",
            "Count: 8\n"
          ]
        }
      ]
    },
    {
      "cell_type": "markdown",
      "metadata": {
        "id": "WfU6CRIWhFh8"
      },
      "source": [
        "**Expected Output**\n",
        "\n",
        "Proper Nouns:  [Ravi, Raju, Paris, London, Dubai, Rome, Mohan, Hyderabad]\n",
        "\n",
        "Count:  8\n"
      ]
    },
    {
      "cell_type": "markdown",
      "metadata": {
        "id": "FUr2rnbYmdlv"
      },
      "source": [
        "#### **Excersie: 2**\n",
        "\n",
        "- Get all companies names from a given text and also the count of them.\n",
        "- **Hint**: Use the spacy **ner** functionality"
      ]
    },
    {
      "cell_type": "code",
      "execution_count": 76,
      "metadata": {
        "colab": {
          "base_uri": "https://localhost:8080/"
        },
        "id": "LLf4xyGEmZ2P",
        "outputId": "fc4c7b25-bc9f-4585-f253-fd363e918186"
      },
      "outputs": [
        {
          "output_type": "stream",
          "name": "stdout",
          "text": [
            "5        CARDINAL           Numerals that do not fall under another type\n",
            "USA        GPE           Countries, cities, states\n",
            "Tesla        ORG           Companies, agencies, institutions, etc.\n",
            "Walmart        ORG           Companies, agencies, institutions, etc.\n",
            "Amazon        ORG           Companies, agencies, institutions, etc.\n",
            "Microsoft        ORG           Companies, agencies, institutions, etc.\n",
            "Google        ORG           Companies, agencies, institutions, etc.\n",
            "5        CARDINAL           Numerals that do not fall under another type\n",
            "India        GPE           Countries, cities, states\n",
            "Infosys        ORG           Companies, agencies, institutions, etc.\n",
            "Reliance        ORG           Companies, agencies, institutions, etc.\n",
            "HDFC Bank        ORG           Companies, agencies, institutions, etc.\n",
            "Hindustan Unilever        ORG           Companies, agencies, institutions, etc.\n",
            "Bharti        ORG           Companies, agencies, institutions, etc.\n"
          ]
        }
      ],
      "source": [
        "text = '''The Top 5 companies in USA are Tesla, Walmart, Amazon, Microsoft, Google and the top 5 companies in\n",
        "India are Infosys, Reliance, HDFC Bank, Hindustan Unilever and Bharti Airtel'''\n",
        "\n",
        "\n",
        "doc = nlp(text)\n",
        "\n",
        "for ent in doc.ents:\n",
        "  print(ent, '      ', ent.label_, '         ', spacy.explain(ent.label_))\n",
        "\n",
        "# hamisi duz isleyecek amma Bharti Airtel yox. Cunki tekce Bhartini goturur."
      ]
    },
    {
      "cell_type": "code",
      "source": [
        "# bu da hell etmir problemi.\n",
        "for ent in doc.ents:\n",
        "  print(ent.text, '      ', ent.label_, '         ', spacy.explain(ent.label_))"
      ],
      "metadata": {
        "id": "8MAGwxtnVney",
        "outputId": "881402b9-fdd2-48f5-ddf0-c5ec51eaac2d",
        "colab": {
          "base_uri": "https://localhost:8080/"
        }
      },
      "execution_count": 77,
      "outputs": [
        {
          "output_type": "stream",
          "name": "stdout",
          "text": [
            "5        CARDINAL           Numerals that do not fall under another type\n",
            "USA        GPE           Countries, cities, states\n",
            "Tesla        ORG           Companies, agencies, institutions, etc.\n",
            "Walmart        ORG           Companies, agencies, institutions, etc.\n",
            "Amazon        ORG           Companies, agencies, institutions, etc.\n",
            "Microsoft        ORG           Companies, agencies, institutions, etc.\n",
            "Google        ORG           Companies, agencies, institutions, etc.\n",
            "5        CARDINAL           Numerals that do not fall under another type\n",
            "India        GPE           Countries, cities, states\n",
            "Infosys        ORG           Companies, agencies, institutions, etc.\n",
            "Reliance        ORG           Companies, agencies, institutions, etc.\n",
            "HDFC Bank        ORG           Companies, agencies, institutions, etc.\n",
            "Hindustan Unilever        ORG           Companies, agencies, institutions, etc.\n",
            "Bharti        ORG           Companies, agencies, institutions, etc.\n"
          ]
        }
      ]
    },
    {
      "cell_type": "code",
      "source": [
        "companies = []\n",
        "\n",
        "for ent in doc.ents:\n",
        "  if ent.label_ == 'ORG':\n",
        "    print(ent.text)\n",
        "    companies.append(ent.text)"
      ],
      "metadata": {
        "id": "bhFgZQxAWVMD",
        "outputId": "75b9eefe-38f5-45d6-a0a2-991e3684e738",
        "colab": {
          "base_uri": "https://localhost:8080/"
        }
      },
      "execution_count": 78,
      "outputs": [
        {
          "output_type": "stream",
          "name": "stdout",
          "text": [
            "Tesla\n",
            "Walmart\n",
            "Amazon\n",
            "Microsoft\n",
            "Google\n",
            "Infosys\n",
            "Reliance\n",
            "HDFC Bank\n",
            "Hindustan Unilever\n",
            "Bharti\n"
          ]
        }
      ]
    },
    {
      "cell_type": "code",
      "source": [
        "print('Company Names:', companies, '\\nCount:', len(companies))"
      ],
      "metadata": {
        "id": "bHAzjQnZWl2P",
        "outputId": "f4e39f91-ebcc-4fe6-d8c4-6d0d8af9cd32",
        "colab": {
          "base_uri": "https://localhost:8080/"
        }
      },
      "execution_count": 79,
      "outputs": [
        {
          "output_type": "stream",
          "name": "stdout",
          "text": [
            "Company Names: ['Tesla', 'Walmart', 'Amazon', 'Microsoft', 'Google', 'Infosys', 'Reliance', 'HDFC Bank', 'Hindustan Unilever', 'Bharti'] \n",
            "Count: 10\n"
          ]
        }
      ]
    },
    {
      "cell_type": "code",
      "source": [
        "# short version\n",
        "companies = [ent.text for ent in doc.ents if ent.label_ == 'ORG']\n",
        "print('Company Names:', companies, '\\nCount:', len(companies))"
      ],
      "metadata": {
        "id": "xBcw62-fVdZf",
        "outputId": "c3c73729-4a72-4369-e210-961a19f4f5e3",
        "colab": {
          "base_uri": "https://localhost:8080/"
        }
      },
      "execution_count": 80,
      "outputs": [
        {
          "output_type": "stream",
          "name": "stdout",
          "text": [
            "Company Names: ['Tesla', 'Walmart', 'Amazon', 'Microsoft', 'Google', 'Infosys', 'Reliance', 'HDFC Bank', 'Hindustan Unilever', 'Bharti'] \n",
            "Count: 10\n"
          ]
        }
      ]
    },
    {
      "cell_type": "markdown",
      "metadata": {
        "id": "4JK5eMsCmZ5i"
      },
      "source": [
        "**Expected Output**\n",
        "\n",
        "\n",
        "Company Names:  [Tesla, Walmart, Amazon, Microsoft, Google, Infosys, Reliance, HDFC Bank, Hindustan Unilever, Bharti Airtel]\n",
        "\n",
        "Count:  10"
      ]
    },
    {
      "cell_type": "markdown",
      "metadata": {
        "id": "HkbNaNVChFoB"
      },
      "source": [
        "## [**Solution**](./language_processing_exercise_solutions.ipynb)"
      ]
    }
  ],
  "metadata": {
    "colab": {
      "name": "Language Processing_exercise.ipynb",
      "provenance": []
    },
    "kernelspec": {
      "display_name": "Python 3 (ipykernel)",
      "language": "python",
      "name": "python3"
    },
    "language_info": {
      "codemirror_mode": {
        "name": "ipython",
        "version": 3
      },
      "file_extension": ".py",
      "mimetype": "text/x-python",
      "name": "python",
      "nbconvert_exporter": "python",
      "pygments_lexer": "ipython3",
      "version": "3.8.10"
    }
  },
  "nbformat": 4,
  "nbformat_minor": 0
}