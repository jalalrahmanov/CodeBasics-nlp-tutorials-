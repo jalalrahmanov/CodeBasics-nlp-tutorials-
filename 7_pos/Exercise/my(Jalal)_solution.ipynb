{
  "nbformat": 4,
  "nbformat_minor": 0,
  "metadata": {
    "colab": {
      "provenance": [],
      "mount_file_id": "1f7Z8PW0zzRS4C7XXYh3QC4S7-q8DoV9O",
      "authorship_tag": "ABX9TyO9CQiu3qMzLZcPbu6nA0FY",
      "include_colab_link": true
    },
    "kernelspec": {
      "name": "python3",
      "display_name": "Python 3"
    },
    "language_info": {
      "name": "python"
    }
  },
  "cells": [
    {
      "cell_type": "markdown",
      "metadata": {
        "id": "view-in-github",
        "colab_type": "text"
      },
      "source": [
        "<a href=\"https://colab.research.google.com/github/jalalrahmanov/CodeBasics-nlp-tutorials-/blob/main/7_pos/Exercise/my(Jalal)_solution.ipynb\" target=\"_parent\"><img src=\"https://colab.research.google.com/assets/colab-badge.svg\" alt=\"Open In Colab\"/></a>"
      ]
    },
    {
      "cell_type": "code",
      "execution_count": 1,
      "metadata": {
        "colab": {
          "base_uri": "https://localhost:8080/"
        },
        "id": "C3I98iP535Zy",
        "outputId": "aa3222d4-c5d7-4855-ab8f-7e7c8b9adb6d"
      },
      "outputs": [
        {
          "output_type": "stream",
          "name": "stdout",
          "text": [
            "hello NLP\n"
          ]
        }
      ],
      "source": [
        "print('hello NLP')"
      ]
    },
    {
      "cell_type": "code",
      "source": [
        "# Exercise for Spacy POS tutorial,\n",
        "\n",
        "# You are parsing a news story from cnbc.com. News story is stores in news_story.txt which is available\n",
        "  # in this same folder on github. You need to,\n",
        "# Extract all NOUN tokens from this story. You will have to read the file in python\n",
        "  # first to collect all the text and then extract NOUNs in a python list\n",
        "# Extract all numbers (NUM POS type) in a python list\n",
        "# Print a count of all POS tags in this story"
      ],
      "metadata": {
        "id": "fWLvgAvB4Cib"
      },
      "execution_count": 2,
      "outputs": []
    },
    {
      "cell_type": "code",
      "source": [
        "import spacy"
      ],
      "metadata": {
        "id": "tpNxsqXQ2ozO"
      },
      "execution_count": 34,
      "outputs": []
    },
    {
      "cell_type": "code",
      "source": [
        "with open(\"/content/drive/MyDrive/KapitalBank/news_story.txt\", \"r\", encoding=\"utf-8\") as f:\n",
        "    text_read = f.readlines()\n",
        "\n",
        "# Now 'text' contains the content of the file\n",
        "print(text_read)"
      ],
      "metadata": {
        "colab": {
          "base_uri": "https://localhost:8080/"
        },
        "id": "lEv9tu9J5utU",
        "outputId": "329c30a6-4df9-4f0d-ace0-ae2b046c1ad2"
      },
      "execution_count": 40,
      "outputs": [
        {
          "output_type": "stream",
          "name": "stdout",
          "text": [
            "['Inflation rose again in April, continuing a climb that has pushed consumers to the brink and is threatening the economic expansion, the Bureau of Labor Statistics reported Wednesday.\\n', '\\n', 'The consumer price index, a broad-based measure of prices for goods and services, increased 8.3% from a year ago, higher than the Dow Jones estimate for an 8.1% gain. That represented a slight ease from March’s peak but was still close to the highest level since the summer of 1982.\\n', '\\n', 'Removing volatile food and energy prices, so-called core CPI still rose 6.2%, against expectations for a 6% gain, clouding hopes that inflation had peaked in March.\\n', '\\n', 'The month-over-month gains also were higher than expectations — 0.3% on headline CPI versus the 0.2% estimate and a 0.6% increase for core, against the outlook for a 0.4% gain.\\n', '\\n', 'The price gains also meant that workers continued to lose ground. Real wages adjusted for inflation decreased 0.1% on the month despite a nominal increase of 0.3% in average hourly earnings. Over the past year, real earnings have dropped 2.6% even though average hourly earnings are up 5.5%.\\n', '\\n', 'Inflation has been the single biggest threat to a recovery that began early in the Covid pandemic and saw the economy in 2021 stage its biggest single-year growth level since 1984. Rising prices at the pump and in grocery stores have been one problem, but inflation has spread beyond those two areas into housing, auto sales and a host of other areas.\\n', '\\n', 'Federal Reserve officials have responded to the problem with two interest rate hikes so far this year and pledges of more until inflation comes down to the central bank’s 2% goal. However, Wednesday’s data shows that the Fed has a big job ahead.\\n', '\\n', 'Credits: cnbc.com\\n', '\\n']\n"
          ]
        }
      ]
    },
    {
      "cell_type": "code",
      "source": [
        "# tipi str olmalidir\n",
        "type(text_read)"
      ],
      "metadata": {
        "colab": {
          "base_uri": "https://localhost:8080/"
        },
        "id": "W7yjOE1I6Uc2",
        "outputId": "c8f74e0d-e277-4c36-fe52-bffdb6c8792e"
      },
      "execution_count": 41,
      "outputs": [
        {
          "output_type": "execute_result",
          "data": {
            "text/plain": [
              "list"
            ]
          },
          "metadata": {},
          "execution_count": 41
        }
      ]
    },
    {
      "cell_type": "code",
      "source": [
        "text = ''.join(text_read)"
      ],
      "metadata": {
        "id": "gWwY5kVQ52YG"
      },
      "execution_count": 42,
      "outputs": []
    },
    {
      "cell_type": "code",
      "source": [
        "type(text)"
      ],
      "metadata": {
        "colab": {
          "base_uri": "https://localhost:8080/"
        },
        "id": "wlXiWpnD6Dl1",
        "outputId": "e2aa8a25-240b-4505-fbcf-caf898e71f48"
      },
      "execution_count": 43,
      "outputs": [
        {
          "output_type": "execute_result",
          "data": {
            "text/plain": [
              "str"
            ]
          },
          "metadata": {},
          "execution_count": 43
        }
      ]
    },
    {
      "cell_type": "code",
      "source": [
        "print(text)"
      ],
      "metadata": {
        "colab": {
          "base_uri": "https://localhost:8080/"
        },
        "id": "nqkjOMWv59n3",
        "outputId": "62e5e832-8dea-48f1-c3ec-4440a3521c94"
      },
      "execution_count": 69,
      "outputs": [
        {
          "output_type": "stream",
          "name": "stdout",
          "text": [
            "Inflation rose again in April, continuing a climb that has pushed consumers to the brink and is threatening the economic expansion, the Bureau of Labor Statistics reported Wednesday.\n",
            "\n",
            "The consumer price index, a broad-based measure of prices for goods and services, increased 8.3% from a year ago, higher than the Dow Jones estimate for an 8.1% gain. That represented a slight ease from March’s peak but was still close to the highest level since the summer of 1982.\n",
            "\n",
            "Removing volatile food and energy prices, so-called core CPI still rose 6.2%, against expectations for a 6% gain, clouding hopes that inflation had peaked in March.\n",
            "\n",
            "The month-over-month gains also were higher than expectations — 0.3% on headline CPI versus the 0.2% estimate and a 0.6% increase for core, against the outlook for a 0.4% gain.\n",
            "\n",
            "The price gains also meant that workers continued to lose ground. Real wages adjusted for inflation decreased 0.1% on the month despite a nominal increase of 0.3% in average hourly earnings. Over the past year, real earnings have dropped 2.6% even though average hourly earnings are up 5.5%.\n",
            "\n",
            "Inflation has been the single biggest threat to a recovery that began early in the Covid pandemic and saw the economy in 2021 stage its biggest single-year growth level since 1984. Rising prices at the pump and in grocery stores have been one problem, but inflation has spread beyond those two areas into housing, auto sales and a host of other areas.\n",
            "\n",
            "Federal Reserve officials have responded to the problem with two interest rate hikes so far this year and pledges of more until inflation comes down to the central bank’s 2% goal. However, Wednesday’s data shows that the Fed has a big job ahead.\n",
            "\n",
            "Credits: cnbc.com\n",
            "\n",
            "\n"
          ]
        }
      ]
    },
    {
      "cell_type": "code",
      "source": [
        "# birbasa str kimi oxumaq:\n",
        "with open(\"/content/drive/MyDrive/KapitalBank/news_story.txt\",\"r\") as f:\n",
        "    news_text = f.read()      # burda sadece read yazirsan\n",
        "\n",
        "print(type(news_text))\n",
        "print(news_text)"
      ],
      "metadata": {
        "colab": {
          "base_uri": "https://localhost:8080/"
        },
        "id": "hiTWfQhc-FKU",
        "outputId": "76233559-f37f-459f-b63c-427e41a68be9"
      },
      "execution_count": 71,
      "outputs": [
        {
          "output_type": "stream",
          "name": "stdout",
          "text": [
            "<class 'str'>\n",
            "Inflation rose again in April, continuing a climb that has pushed consumers to the brink and is threatening the economic expansion, the Bureau of Labor Statistics reported Wednesday.\n",
            "\n",
            "The consumer price index, a broad-based measure of prices for goods and services, increased 8.3% from a year ago, higher than the Dow Jones estimate for an 8.1% gain. That represented a slight ease from March’s peak but was still close to the highest level since the summer of 1982.\n",
            "\n",
            "Removing volatile food and energy prices, so-called core CPI still rose 6.2%, against expectations for a 6% gain, clouding hopes that inflation had peaked in March.\n",
            "\n",
            "The month-over-month gains also were higher than expectations — 0.3% on headline CPI versus the 0.2% estimate and a 0.6% increase for core, against the outlook for a 0.4% gain.\n",
            "\n",
            "The price gains also meant that workers continued to lose ground. Real wages adjusted for inflation decreased 0.1% on the month despite a nominal increase of 0.3% in average hourly earnings. Over the past year, real earnings have dropped 2.6% even though average hourly earnings are up 5.5%.\n",
            "\n",
            "Inflation has been the single biggest threat to a recovery that began early in the Covid pandemic and saw the economy in 2021 stage its biggest single-year growth level since 1984. Rising prices at the pump and in grocery stores have been one problem, but inflation has spread beyond those two areas into housing, auto sales and a host of other areas.\n",
            "\n",
            "Federal Reserve officials have responded to the problem with two interest rate hikes so far this year and pledges of more until inflation comes down to the central bank’s 2% goal. However, Wednesday’s data shows that the Fed has a big job ahead.\n",
            "\n",
            "Credits: cnbc.com\n",
            "\n",
            "\n"
          ]
        }
      ]
    },
    {
      "cell_type": "code",
      "source": [
        "nlp = spacy.load('en_core_web_sm')"
      ],
      "metadata": {
        "id": "IUSEj_tE3ocx"
      },
      "execution_count": 45,
      "outputs": []
    },
    {
      "cell_type": "code",
      "source": [
        "doc = nlp(text)"
      ],
      "metadata": {
        "id": "TQfDUe2F3BZ9"
      },
      "execution_count": 46,
      "outputs": []
    },
    {
      "cell_type": "code",
      "source": [
        "# Extract all NOUN tokens from this story. You will have to read the file in python\n",
        "  # first to collect all the text and then extract NOUNs in a python list\n",
        "nouns = []\n",
        "for token in doc:\n",
        "  if token.pos_ == 'NOUN':\n",
        "    nouns.append(token.text)\n",
        "nouns"
      ],
      "metadata": {
        "colab": {
          "base_uri": "https://localhost:8080/"
        },
        "id": "W_8cPfSb5mVD",
        "outputId": "f6251b8e-14b4-4d1b-9886-08f745063b3d"
      },
      "execution_count": 54,
      "outputs": [
        {
          "output_type": "execute_result",
          "data": {
            "text/plain": [
              "['Inflation',\n",
              " 'climb',\n",
              " 'consumers',\n",
              " 'brink',\n",
              " 'expansion',\n",
              " 'consumer',\n",
              " 'price',\n",
              " 'index',\n",
              " 'measure',\n",
              " 'prices',\n",
              " 'goods',\n",
              " 'services',\n",
              " '%',\n",
              " 'year',\n",
              " 'estimate',\n",
              " '%',\n",
              " 'gain',\n",
              " 'ease',\n",
              " 'peak',\n",
              " 'level',\n",
              " 'summer',\n",
              " 'food',\n",
              " 'energy',\n",
              " 'prices',\n",
              " 'core',\n",
              " '%',\n",
              " 'expectations',\n",
              " '%',\n",
              " 'gain',\n",
              " 'hopes',\n",
              " 'inflation',\n",
              " 'month',\n",
              " 'month',\n",
              " 'gains',\n",
              " 'expectations',\n",
              " '%',\n",
              " 'headline',\n",
              " '%',\n",
              " 'estimate',\n",
              " '%',\n",
              " 'increase',\n",
              " 'core',\n",
              " 'outlook',\n",
              " '%',\n",
              " 'gain',\n",
              " 'price',\n",
              " 'gains',\n",
              " 'workers',\n",
              " 'ground',\n",
              " 'wages',\n",
              " 'inflation',\n",
              " '%',\n",
              " 'month',\n",
              " 'increase',\n",
              " '%',\n",
              " 'earnings',\n",
              " 'year',\n",
              " 'earnings',\n",
              " '%',\n",
              " 'earnings',\n",
              " '%',\n",
              " 'Inflation',\n",
              " 'threat',\n",
              " 'recovery',\n",
              " 'pandemic',\n",
              " 'economy',\n",
              " 'stage',\n",
              " 'year',\n",
              " 'growth',\n",
              " 'level',\n",
              " 'prices',\n",
              " 'pump',\n",
              " 'grocery',\n",
              " 'stores',\n",
              " 'problem',\n",
              " 'inflation',\n",
              " 'areas',\n",
              " 'housing',\n",
              " 'auto',\n",
              " 'sales',\n",
              " 'host',\n",
              " 'areas',\n",
              " 'officials',\n",
              " 'problem',\n",
              " 'interest',\n",
              " 'rate',\n",
              " 'hikes',\n",
              " 'year',\n",
              " 'pledges',\n",
              " 'inflation',\n",
              " 'bank',\n",
              " '%',\n",
              " 'goal',\n",
              " 'data',\n",
              " 'job',\n",
              " 'Credits']"
            ]
          },
          "metadata": {},
          "execution_count": 54
        }
      ]
    },
    {
      "cell_type": "code",
      "source": [
        "len(nouns)"
      ],
      "metadata": {
        "colab": {
          "base_uri": "https://localhost:8080/"
        },
        "id": "s9c6Hu2f7VK8",
        "outputId": "d88c36f5-03d9-4f35-d650-c8c5886272be"
      },
      "execution_count": 55,
      "outputs": [
        {
          "output_type": "execute_result",
          "data": {
            "text/plain": [
              "96"
            ]
          },
          "metadata": {},
          "execution_count": 55
        }
      ]
    },
    {
      "cell_type": "code",
      "source": [
        "nouns = [token.text for token in doc if token.pos_ == \"NOUN\"]\n",
        "len(nouns)"
      ],
      "metadata": {
        "colab": {
          "base_uri": "https://localhost:8080/"
        },
        "id": "jALCXy5p7MHM",
        "outputId": "c956dd9d-330d-4362-f047-8e7dce1517f9"
      },
      "execution_count": 56,
      "outputs": [
        {
          "output_type": "execute_result",
          "data": {
            "text/plain": [
              "96"
            ]
          },
          "metadata": {},
          "execution_count": 56
        }
      ]
    },
    {
      "cell_type": "code",
      "source": [
        "# Extract all numbers (NUM POS type) in a python list\n",
        "numbers = [token.text for token in doc if token.pos_ == 'NUM']\n",
        "numbers"
      ],
      "metadata": {
        "colab": {
          "base_uri": "https://localhost:8080/"
        },
        "id": "e9Pd7VC-7HHL",
        "outputId": "379f0467-7ec7-41df-ccf6-4f0db8f1b60e"
      },
      "execution_count": 57,
      "outputs": [
        {
          "output_type": "execute_result",
          "data": {
            "text/plain": [
              "['8.3',\n",
              " '8.1',\n",
              " '1982',\n",
              " '6.2',\n",
              " '6',\n",
              " '0.3',\n",
              " '0.2',\n",
              " '0.6',\n",
              " '0.4',\n",
              " '0.1',\n",
              " '0.3',\n",
              " '2.6',\n",
              " '5.5',\n",
              " '2021',\n",
              " '1984',\n",
              " 'one',\n",
              " 'two',\n",
              " 'two',\n",
              " '2']"
            ]
          },
          "metadata": {},
          "execution_count": 57
        }
      ]
    },
    {
      "cell_type": "code",
      "source": [
        "len(numbers)"
      ],
      "metadata": {
        "colab": {
          "base_uri": "https://localhost:8080/"
        },
        "id": "drdRZdx060On",
        "outputId": "fe59880d-e712-4541-b27a-d4d4544e0acd"
      },
      "execution_count": 58,
      "outputs": [
        {
          "output_type": "execute_result",
          "data": {
            "text/plain": [
              "19"
            ]
          },
          "metadata": {},
          "execution_count": 58
        }
      ]
    },
    {
      "cell_type": "code",
      "source": [
        "all_pos = doc.count_by(spacy.attrs.POS)\n",
        "all_pos"
      ],
      "metadata": {
        "colab": {
          "base_uri": "https://localhost:8080/"
        },
        "id": "SP89KCj775yY",
        "outputId": "fb27ba79-f54c-44af-f531-141a53d491cf"
      },
      "execution_count": 60,
      "outputs": [
        {
          "output_type": "execute_result",
          "data": {
            "text/plain": [
              "{92: 96,\n",
              " 100: 27,\n",
              " 86: 15,\n",
              " 85: 39,\n",
              " 96: 16,\n",
              " 97: 32,\n",
              " 90: 34,\n",
              " 95: 4,\n",
              " 87: 13,\n",
              " 89: 10,\n",
              " 84: 23,\n",
              " 103: 8,\n",
              " 93: 19,\n",
              " 94: 4,\n",
              " 98: 8,\n",
              " 101: 1}"
            ]
          },
          "metadata": {},
          "execution_count": 60
        }
      ]
    },
    {
      "cell_type": "code",
      "source": [
        "doc.vocab[92].text"
      ],
      "metadata": {
        "colab": {
          "base_uri": "https://localhost:8080/",
          "height": 35
        },
        "id": "gplCGE0m8pAf",
        "outputId": "5ae33d3e-794e-4a1d-aa03-d10175e3a7b4"
      },
      "execution_count": 61,
      "outputs": [
        {
          "output_type": "execute_result",
          "data": {
            "text/plain": [
              "'NOUN'"
            ],
            "application/vnd.google.colaboratory.intrinsic+json": {
              "type": "string"
            }
          },
          "metadata": {},
          "execution_count": 61
        }
      ]
    },
    {
      "cell_type": "code",
      "source": [
        "for i, j in all_pos.items():\n",
        "  print('This is part of speech:', doc.vocab[i].text, '------> This is how many there are:', j)"
      ],
      "metadata": {
        "colab": {
          "base_uri": "https://localhost:8080/"
        },
        "id": "P3iuxoOn8tfO",
        "outputId": "3ac5bcc9-350e-43fc-f554-5b60018dbfa9"
      },
      "execution_count": 68,
      "outputs": [
        {
          "output_type": "stream",
          "name": "stdout",
          "text": [
            "This is part of speech: NOUN ------> This is how many there are: 96\n",
            "This is part of speech: VERB ------> This is how many there are: 27\n",
            "This is part of speech: ADV ------> This is how many there are: 15\n",
            "This is part of speech: ADP ------> This is how many there are: 39\n",
            "This is part of speech: PROPN ------> This is how many there are: 16\n",
            "This is part of speech: PUNCT ------> This is how many there are: 32\n",
            "This is part of speech: DET ------> This is how many there are: 34\n",
            "This is part of speech: PRON ------> This is how many there are: 4\n",
            "This is part of speech: AUX ------> This is how many there are: 13\n",
            "This is part of speech: CCONJ ------> This is how many there are: 10\n",
            "This is part of speech: ADJ ------> This is how many there are: 23\n",
            "This is part of speech: SPACE ------> This is how many there are: 8\n",
            "This is part of speech: NUM ------> This is how many there are: 19\n",
            "This is part of speech: PART ------> This is how many there are: 4\n",
            "This is part of speech: SCONJ ------> This is how many there are: 8\n",
            "This is part of speech: X ------> This is how many there are: 1\n"
          ]
        }
      ]
    },
    {
      "cell_type": "code",
      "source": [],
      "metadata": {
        "id": "5_1x0pft9KU-"
      },
      "execution_count": null,
      "outputs": []
    }
  ]
}