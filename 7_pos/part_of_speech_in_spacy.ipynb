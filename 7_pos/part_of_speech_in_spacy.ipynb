{
  "cells": [
    {
      "cell_type": "code",
      "source": [
        "print('hello')"
      ],
      "metadata": {
        "colab": {
          "base_uri": "https://localhost:8080/"
        },
        "id": "2OCm62Uv5pRY",
        "outputId": "6a23dd96-7efc-46ad-ac18-f643017cfb84"
      },
      "execution_count": 2,
      "outputs": [
        {
          "output_type": "stream",
          "name": "stdout",
          "text": [
            "hello\n"
          ]
        }
      ]
    },
    {
      "cell_type": "code",
      "execution_count": 3,
      "metadata": {
        "id": "KVPgzFh5lmoV"
      },
      "outputs": [],
      "source": [
        "import spacy"
      ]
    },
    {
      "cell_type": "markdown",
      "metadata": {
        "id": "FUYUjqAjlmoY"
      },
      "source": [
        "<h3>POS tags</h3>"
      ]
    },
    {
      "cell_type": "code",
      "execution_count": 4,
      "metadata": {
        "scrolled": true,
        "colab": {
          "base_uri": "https://localhost:8080/"
        },
        "id": "0c6I4VQUlmob",
        "outputId": "fef358e6-755c-4207-dd04-a61588c1fb49"
      },
      "outputs": [
        {
          "output_type": "stream",
          "name": "stdout",
          "text": [
            "Elon  |  PROPN  |  proper noun  |  96\n",
            "flew  |  VERB  |  verb  |  100\n",
            "to  |  ADP  |  adposition  |  85\n",
            "mars  |  NOUN  |  noun  |  92\n",
            "yesterday  |  NOUN  |  noun  |  92\n",
            ".  |  PUNCT  |  punctuation  |  97\n",
            "He  |  PRON  |  pronoun  |  95\n",
            "carried  |  VERB  |  verb  |  100\n",
            "biryani  |  ADJ  |  adjective  |  84\n",
            "masala  |  NOUN  |  noun  |  92\n",
            "with  |  ADP  |  adposition  |  85\n",
            "him  |  PRON  |  pronoun  |  95\n"
          ]
        }
      ],
      "source": [
        "nlp = spacy.load(\"en_core_web_sm\")\n",
        "doc = nlp(\"Elon flew to mars yesterday. He carried biryani masala with him\")\n",
        "\n",
        "for token in doc:\n",
        "    print(token,\" | \", token.pos_, \" | \", spacy.explain(token.pos_), \" | \", token.pos)"
      ]
    },
    {
      "cell_type": "markdown",
      "metadata": {
        "id": "I6Try_gMlmod"
      },
      "source": [
        "You can check https://v2.spacy.io/api/annotation for the complete list of pos categories in spacy.\n",
        "\n",
        "https://en.wikipedia.org/wiki/Preposition_and_postposition\n",
        "\n",
        "https://en.wikipedia.org/wiki/Part_of_speech"
      ]
    },
    {
      "cell_type": "code",
      "execution_count": 6,
      "metadata": {
        "colab": {
          "base_uri": "https://localhost:8080/"
        },
        "id": "LgMXeNA8lmoe",
        "outputId": "f40fff42-b5f5-4327-ce2d-3a5b7d73e299"
      },
      "outputs": [
        {
          "output_type": "stream",
          "name": "stdout",
          "text": [
            "Wow  |  INTJ  |  interjection  |  91\n",
            "!  |  PUNCT  |  punctuation  |  97\n",
            "Dr.  |  PROPN  |  proper noun  |  96\n",
            "Strange  |  PROPN  |  proper noun  |  96\n",
            "made  |  VERB  |  verb  |  100\n",
            "265  |  NUM  |  numeral  |  93\n",
            "million  |  NUM  |  numeral  |  93\n",
            "$  |  NUM  |  numeral  |  93\n",
            "on  |  ADP  |  adposition  |  85\n",
            "the  |  DET  |  determiner  |  90\n",
            "very  |  ADV  |  adverb  |  86\n",
            "first  |  ADJ  |  adjective  |  84\n",
            "day  |  NOUN  |  noun  |  92\n"
          ]
        }
      ],
      "source": [
        "doc = nlp(\"Wow! Dr. Strange made 265 million $ on the very first day\")\n",
        "\n",
        "for token in doc:\n",
        "    print(token,\" | \", token.pos_, \" | \", spacy.explain(token.pos_), \" | \", token.pos)"
      ]
    },
    {
      "cell_type": "markdown",
      "metadata": {
        "id": "RH9UYjIflmof"
      },
      "source": [
        "<h3>Tags</h3>"
      ]
    },
    {
      "cell_type": "code",
      "execution_count": 8,
      "metadata": {
        "colab": {
          "base_uri": "https://localhost:8080/"
        },
        "id": "e9HZkGQOlmog",
        "outputId": "c963793d-ac38-4dfd-b263-fda59631084d"
      },
      "outputs": [
        {
          "output_type": "stream",
          "name": "stdout",
          "text": [
            "Wow  |  INTJ  |  interjection  |  91  |  UH  |  interjection\n",
            "!  |  PUNCT  |  punctuation  |  97  |  .  |  punctuation mark, sentence closer\n",
            "Dr.  |  PROPN  |  proper noun  |  96  |  NNP  |  noun, proper singular\n",
            "Strange  |  PROPN  |  proper noun  |  96  |  NNP  |  noun, proper singular\n",
            "made  |  VERB  |  verb  |  100  |  VBD  |  verb, past tense\n",
            "265  |  NUM  |  numeral  |  93  |  CD  |  cardinal number\n",
            "million  |  NUM  |  numeral  |  93  |  CD  |  cardinal number\n",
            "$  |  NUM  |  numeral  |  93  |  CD  |  cardinal number\n",
            "on  |  ADP  |  adposition  |  85  |  IN  |  conjunction, subordinating or preposition\n",
            "the  |  DET  |  determiner  |  90  |  DT  |  determiner\n",
            "very  |  ADV  |  adverb  |  86  |  RB  |  adverb\n",
            "first  |  ADJ  |  adjective  |  84  |  JJ  |  adjective (English), other noun-modifier (Chinese)\n",
            "day  |  NOUN  |  noun  |  92  |  NN  |  noun, singular or mass\n"
          ]
        }
      ],
      "source": [
        "doc = nlp(\"Wow! Dr. Strange made 265 million $ on the very first day\")\n",
        "\n",
        "for token in doc:\n",
        "    print(token,\" | \", token.pos_, \" | \", spacy.explain(token.pos_), \" | \", token.pos, \" | \", token.tag_, \" | \", spacy.explain(token.tag_))"
      ]
    },
    {
      "cell_type": "markdown",
      "metadata": {
        "id": "c5eOLg7Llmoi"
      },
      "source": [
        "<h3>In below sentences Spacy figures out the past vs present tense for quit </h3>"
      ]
    },
    {
      "cell_type": "code",
      "execution_count": 9,
      "metadata": {
        "colab": {
          "base_uri": "https://localhost:8080/"
        },
        "id": "v1nw3hXulmoj",
        "outputId": "d370c8eb-8db8-4e68-d4d1-50c08ae82143"
      },
      "outputs": [
        {
          "output_type": "stream",
          "name": "stdout",
          "text": [
            "quits | VBZ | verb, 3rd person singular present\n"
          ]
        }
      ],
      "source": [
        "doc = nlp(\"He quits the job\")\n",
        "\n",
        "print(doc[1].text, \"|\", doc[1].tag_, \"|\", spacy.explain(doc[1].tag_))"
      ]
    },
    {
      "cell_type": "code",
      "execution_count": 10,
      "metadata": {
        "scrolled": true,
        "colab": {
          "base_uri": "https://localhost:8080/"
        },
        "id": "M2OPwAlLlmok",
        "outputId": "06f7584f-2988-4ce9-abfe-f17bf7ab671c"
      },
      "outputs": [
        {
          "output_type": "stream",
          "name": "stdout",
          "text": [
            "quit | VBD | verb, past tense\n"
          ]
        }
      ],
      "source": [
        "# quitden s silindi\n",
        "doc = nlp(\"he quit the job\")\n",
        "\n",
        "print(doc[1].text, \"|\", doc[1].tag_, \"|\", spacy.explain(doc[1].tag_))"
      ]
    },
    {
      "cell_type": "markdown",
      "metadata": {
        "id": "CREvOlmOlmol"
      },
      "source": [
        "<h3>Removing all SPACE, PUNCT and X token from text</h3>"
      ]
    },
    {
      "cell_type": "markdown",
      "metadata": {
        "id": "X8sqf4fllmol"
      },
      "source": [
        "Processing microsoft's earning report: https://www.microsoft.com/en-us/investor/earnings/fy-2022-q2/press-release-webcast"
      ]
    },
    {
      "cell_type": "code",
      "execution_count": 40,
      "metadata": {
        "scrolled": false,
        "id": "D1XS8RCOlmol"
      },
      "outputs": [],
      "source": [
        "# NLP proyektin ucun tutalim bu textden lazimsiz seyleri temizlemelisen ve tutalim senin use case eledir ki,\n",
        "# sen space, punctuation marks (.,\"\") ve X yeni others qrupuna daxil olan(hec bir normal ing dili qrupuna daxil olmayan) tokenleri filterlemelisen(silmelisen)\n",
        "earnings_text=\"\"\"Microsoft Corp. today announced the following results for the quarter ended December 31, 2021, as compared to the corresponding corresponding period of last fiscal year:\n",
        "\n",
        "·         Revenue was $51.7 billion and increased 20%\n",
        "·         Operating income was $22.2 billion and increased 24%\n",
        "·         Net income was $18.8 billion and increased 21%\n",
        "·         Diluted earnings per share was $2.48 and increased 22%\n",
        "“Digital technology etc. is the most malleable resource at the world’s disposal to overcome constraints and reimagine everyday work and life,” said Satya Nadella, chairman and chief executive officer of Microsoft. “As tech as a percentage of global GDP continues to increase, we are innovating and investing across diverse and growing markets, with a common underlying technology stack and an operating model that reinforces a common strategy, culture, and sense of purpose.”\n",
        "“Solid commercial execution, represented by strong bookings growth driven by long-term Azure commitments, increased Microsoft Cloud revenue to $22.1 billion, up 32% year over year” said Amy Hood, executive vice president and chief financial officer of Microsoft.\"\"\""
      ]
    },
    {
      "cell_type": "code",
      "source": [
        "doc = nlp(earnings_text)"
      ],
      "metadata": {
        "id": "ZIn72QlIvDuR"
      },
      "execution_count": 41,
      "outputs": []
    },
    {
      "cell_type": "code",
      "source": [
        "for token in doc:\n",
        "    print(token, ' | ', token.pos_, ' | ', spacy.explain(token.pos_))"
      ],
      "metadata": {
        "colab": {
          "base_uri": "https://localhost:8080/"
        },
        "id": "VVo2M3GVvavr",
        "outputId": "7da057bd-6f56-43df-f0b9-01e874d1448c"
      },
      "execution_count": 42,
      "outputs": [
        {
          "output_type": "stream",
          "name": "stdout",
          "text": [
            "Microsoft  |  PROPN  |  proper noun\n",
            "Corp.  |  PROPN  |  proper noun\n",
            "today  |  NOUN  |  noun\n",
            "announced  |  VERB  |  verb\n",
            "the  |  DET  |  determiner\n",
            "following  |  VERB  |  verb\n",
            "results  |  NOUN  |  noun\n",
            "for  |  ADP  |  adposition\n",
            "the  |  DET  |  determiner\n",
            "quarter  |  NOUN  |  noun\n",
            "ended  |  VERB  |  verb\n",
            "December  |  PROPN  |  proper noun\n",
            "31  |  NUM  |  numeral\n",
            ",  |  PUNCT  |  punctuation\n",
            "2021  |  NUM  |  numeral\n",
            ",  |  PUNCT  |  punctuation\n",
            "as  |  SCONJ  |  subordinating conjunction\n",
            "compared  |  VERB  |  verb\n",
            "to  |  ADP  |  adposition\n",
            "the  |  DET  |  determiner\n",
            "corresponding  |  ADJ  |  adjective\n",
            "corresponding  |  ADJ  |  adjective\n",
            "period  |  NOUN  |  noun\n",
            "of  |  ADP  |  adposition\n",
            "last  |  ADJ  |  adjective\n",
            "fiscal  |  ADJ  |  adjective\n",
            "year  |  NOUN  |  noun\n",
            ":  |  PUNCT  |  punctuation\n",
            "\n",
            "\n",
            "  |  SPACE  |  space\n",
            "·  |  PUNCT  |  punctuation\n",
            "          |  SPACE  |  space\n",
            "Revenue  |  NOUN  |  noun\n",
            "was  |  AUX  |  auxiliary\n",
            "$  |  SYM  |  symbol\n",
            "51.7  |  NUM  |  numeral\n",
            "billion  |  NUM  |  numeral\n",
            "and  |  CCONJ  |  coordinating conjunction\n",
            "increased  |  VERB  |  verb\n",
            "20  |  NUM  |  numeral\n",
            "%  |  NOUN  |  noun\n",
            "\n",
            "  |  SPACE  |  space\n",
            "·  |  PUNCT  |  punctuation\n",
            "          |  SPACE  |  space\n",
            "Operating  |  VERB  |  verb\n",
            "income  |  NOUN  |  noun\n",
            "was  |  AUX  |  auxiliary\n",
            "$  |  SYM  |  symbol\n",
            "22.2  |  NUM  |  numeral\n",
            "billion  |  NUM  |  numeral\n",
            "and  |  CCONJ  |  coordinating conjunction\n",
            "increased  |  VERB  |  verb\n",
            "24  |  NUM  |  numeral\n",
            "%  |  NOUN  |  noun\n",
            "\n",
            "  |  SPACE  |  space\n",
            "·  |  PUNCT  |  punctuation\n",
            "          |  SPACE  |  space\n",
            "Net  |  ADJ  |  adjective\n",
            "income  |  NOUN  |  noun\n",
            "was  |  AUX  |  auxiliary\n",
            "$  |  SYM  |  symbol\n",
            "18.8  |  NUM  |  numeral\n",
            "billion  |  NUM  |  numeral\n",
            "and  |  CCONJ  |  coordinating conjunction\n",
            "increased  |  VERB  |  verb\n",
            "21  |  NUM  |  numeral\n",
            "%  |  NOUN  |  noun\n",
            "\n",
            "  |  SPACE  |  space\n",
            "·  |  PUNCT  |  punctuation\n",
            "          |  SPACE  |  space\n",
            "Diluted  |  VERB  |  verb\n",
            "earnings  |  NOUN  |  noun\n",
            "per  |  ADP  |  adposition\n",
            "share  |  NOUN  |  noun\n",
            "was  |  AUX  |  auxiliary\n",
            "$  |  SYM  |  symbol\n",
            "2.48  |  NUM  |  numeral\n",
            "and  |  CCONJ  |  coordinating conjunction\n",
            "increased  |  VERB  |  verb\n",
            "22  |  NUM  |  numeral\n",
            "%  |  NOUN  |  noun\n",
            "\n",
            "  |  SPACE  |  space\n",
            "“  |  PUNCT  |  punctuation\n",
            "Digital  |  PROPN  |  proper noun\n",
            "technology  |  NOUN  |  noun\n",
            "etc  |  X  |  other\n",
            ".  |  X  |  other\n",
            "is  |  AUX  |  auxiliary\n",
            "the  |  DET  |  determiner\n",
            "most  |  ADV  |  adverb\n",
            "malleable  |  ADJ  |  adjective\n",
            "resource  |  NOUN  |  noun\n",
            "at  |  ADP  |  adposition\n",
            "the  |  DET  |  determiner\n",
            "world  |  NOUN  |  noun\n",
            "’s  |  PART  |  particle\n",
            "disposal  |  NOUN  |  noun\n",
            "to  |  PART  |  particle\n",
            "overcome  |  VERB  |  verb\n",
            "constraints  |  NOUN  |  noun\n",
            "and  |  CCONJ  |  coordinating conjunction\n",
            "reimagine  |  VERB  |  verb\n",
            "everyday  |  ADJ  |  adjective\n",
            "work  |  NOUN  |  noun\n",
            "and  |  CCONJ  |  coordinating conjunction\n",
            "life  |  NOUN  |  noun\n",
            ",  |  PUNCT  |  punctuation\n",
            "”  |  PUNCT  |  punctuation\n",
            "said  |  VERB  |  verb\n",
            "Satya  |  PROPN  |  proper noun\n",
            "Nadella  |  PROPN  |  proper noun\n",
            ",  |  PUNCT  |  punctuation\n",
            "chairman  |  NOUN  |  noun\n",
            "and  |  CCONJ  |  coordinating conjunction\n",
            "chief  |  ADJ  |  adjective\n",
            "executive  |  ADJ  |  adjective\n",
            "officer  |  NOUN  |  noun\n",
            "of  |  ADP  |  adposition\n",
            "Microsoft  |  PROPN  |  proper noun\n",
            ".  |  PUNCT  |  punctuation\n",
            "“  |  PUNCT  |  punctuation\n",
            "As  |  ADV  |  adverb\n",
            "tech  |  NOUN  |  noun\n",
            "as  |  ADP  |  adposition\n",
            "a  |  DET  |  determiner\n",
            "percentage  |  NOUN  |  noun\n",
            "of  |  ADP  |  adposition\n",
            "global  |  ADJ  |  adjective\n",
            "GDP  |  PROPN  |  proper noun\n",
            "continues  |  VERB  |  verb\n",
            "to  |  PART  |  particle\n",
            "increase  |  VERB  |  verb\n",
            ",  |  PUNCT  |  punctuation\n",
            "we  |  PRON  |  pronoun\n",
            "are  |  AUX  |  auxiliary\n",
            "innovating  |  VERB  |  verb\n",
            "and  |  CCONJ  |  coordinating conjunction\n",
            "investing  |  VERB  |  verb\n",
            "across  |  ADP  |  adposition\n",
            "diverse  |  ADJ  |  adjective\n",
            "and  |  CCONJ  |  coordinating conjunction\n",
            "growing  |  VERB  |  verb\n",
            "markets  |  NOUN  |  noun\n",
            ",  |  PUNCT  |  punctuation\n",
            "with  |  ADP  |  adposition\n",
            "a  |  DET  |  determiner\n",
            "common  |  ADJ  |  adjective\n",
            "underlying  |  VERB  |  verb\n",
            "technology  |  NOUN  |  noun\n",
            "stack  |  NOUN  |  noun\n",
            "and  |  CCONJ  |  coordinating conjunction\n",
            "an  |  DET  |  determiner\n",
            "operating  |  NOUN  |  noun\n",
            "model  |  NOUN  |  noun\n",
            "that  |  PRON  |  pronoun\n",
            "reinforces  |  VERB  |  verb\n",
            "a  |  DET  |  determiner\n",
            "common  |  ADJ  |  adjective\n",
            "strategy  |  NOUN  |  noun\n",
            ",  |  PUNCT  |  punctuation\n",
            "culture  |  NOUN  |  noun\n",
            ",  |  PUNCT  |  punctuation\n",
            "and  |  CCONJ  |  coordinating conjunction\n",
            "sense  |  NOUN  |  noun\n",
            "of  |  ADP  |  adposition\n",
            "purpose  |  NOUN  |  noun\n",
            ".  |  PUNCT  |  punctuation\n",
            "”  |  PUNCT  |  punctuation\n",
            "\n",
            "  |  SPACE  |  space\n",
            "“  |  PUNCT  |  punctuation\n",
            "Solid  |  ADJ  |  adjective\n",
            "commercial  |  ADJ  |  adjective\n",
            "execution  |  NOUN  |  noun\n",
            ",  |  PUNCT  |  punctuation\n",
            "represented  |  VERB  |  verb\n",
            "by  |  ADP  |  adposition\n",
            "strong  |  ADJ  |  adjective\n",
            "bookings  |  NOUN  |  noun\n",
            "growth  |  NOUN  |  noun\n",
            "driven  |  VERB  |  verb\n",
            "by  |  ADP  |  adposition\n",
            "long  |  ADJ  |  adjective\n",
            "-  |  PUNCT  |  punctuation\n",
            "term  |  NOUN  |  noun\n",
            "Azure  |  ADJ  |  adjective\n",
            "commitments  |  NOUN  |  noun\n",
            ",  |  PUNCT  |  punctuation\n",
            "increased  |  VERB  |  verb\n",
            "Microsoft  |  PROPN  |  proper noun\n",
            "Cloud  |  PROPN  |  proper noun\n",
            "revenue  |  NOUN  |  noun\n",
            "to  |  ADP  |  adposition\n",
            "$  |  SYM  |  symbol\n",
            "22.1  |  NUM  |  numeral\n",
            "billion  |  NUM  |  numeral\n",
            ",  |  PUNCT  |  punctuation\n",
            "up  |  ADV  |  adverb\n",
            "32  |  NUM  |  numeral\n",
            "%  |  NOUN  |  noun\n",
            "year  |  NOUN  |  noun\n",
            "over  |  ADP  |  adposition\n",
            "year  |  NOUN  |  noun\n",
            "”  |  PUNCT  |  punctuation\n",
            "said  |  VERB  |  verb\n",
            "Amy  |  PROPN  |  proper noun\n",
            "Hood  |  PROPN  |  proper noun\n",
            ",  |  PUNCT  |  punctuation\n",
            "executive  |  ADJ  |  adjective\n",
            "vice  |  NOUN  |  noun\n",
            "president  |  NOUN  |  noun\n",
            "and  |  CCONJ  |  coordinating conjunction\n",
            "chief  |  ADJ  |  adjective\n",
            "financial  |  ADJ  |  adjective\n",
            "officer  |  NOUN  |  noun\n",
            "of  |  ADP  |  adposition\n",
            "Microsoft  |  PROPN  |  proper noun\n",
            ".  |  PUNCT  |  punctuation\n"
          ]
        }
      ]
    },
    {
      "cell_type": "code",
      "source": [
        "for token in doc:\n",
        "    if token.pos_ in [\"SPACE\", \"PUNCT\", \"X\"]:\n",
        "        print(token, ' | ', token.pos_, ' | ', spacy.explain(token.pos_))"
      ],
      "metadata": {
        "colab": {
          "base_uri": "https://localhost:8080/"
        },
        "id": "Fv-3EpcHwYF3",
        "outputId": "84893abe-6645-4e14-d420-46c70400744f"
      },
      "execution_count": 43,
      "outputs": [
        {
          "output_type": "stream",
          "name": "stdout",
          "text": [
            ",  |  PUNCT  |  punctuation\n",
            ",  |  PUNCT  |  punctuation\n",
            ":  |  PUNCT  |  punctuation\n",
            "\n",
            "\n",
            "  |  SPACE  |  space\n",
            "·  |  PUNCT  |  punctuation\n",
            "          |  SPACE  |  space\n",
            "\n",
            "  |  SPACE  |  space\n",
            "·  |  PUNCT  |  punctuation\n",
            "          |  SPACE  |  space\n",
            "\n",
            "  |  SPACE  |  space\n",
            "·  |  PUNCT  |  punctuation\n",
            "          |  SPACE  |  space\n",
            "\n",
            "  |  SPACE  |  space\n",
            "·  |  PUNCT  |  punctuation\n",
            "          |  SPACE  |  space\n",
            "\n",
            "  |  SPACE  |  space\n",
            "“  |  PUNCT  |  punctuation\n",
            "etc  |  X  |  other\n",
            ".  |  X  |  other\n",
            ",  |  PUNCT  |  punctuation\n",
            "”  |  PUNCT  |  punctuation\n",
            ",  |  PUNCT  |  punctuation\n",
            ".  |  PUNCT  |  punctuation\n",
            "“  |  PUNCT  |  punctuation\n",
            ",  |  PUNCT  |  punctuation\n",
            ",  |  PUNCT  |  punctuation\n",
            ",  |  PUNCT  |  punctuation\n",
            ",  |  PUNCT  |  punctuation\n",
            ".  |  PUNCT  |  punctuation\n",
            "”  |  PUNCT  |  punctuation\n",
            "\n",
            "  |  SPACE  |  space\n",
            "“  |  PUNCT  |  punctuation\n",
            ",  |  PUNCT  |  punctuation\n",
            "-  |  PUNCT  |  punctuation\n",
            ",  |  PUNCT  |  punctuation\n",
            ",  |  PUNCT  |  punctuation\n",
            "”  |  PUNCT  |  punctuation\n",
            ",  |  PUNCT  |  punctuation\n",
            ".  |  PUNCT  |  punctuation\n"
          ]
        }
      ]
    },
    {
      "cell_type": "code",
      "source": [
        "filtered_tokens = []\n",
        "\n",
        "for token in doc:\n",
        "    if token.pos_ not in [\"SPACE\", \"PUNCT\", \"X\"]:\n",
        "        filtered_tokens.append(token)"
      ],
      "metadata": {
        "id": "WWYGDTI7vCS7"
      },
      "execution_count": 44,
      "outputs": []
    },
    {
      "cell_type": "code",
      "execution_count": 45,
      "metadata": {
        "scrolled": false,
        "colab": {
          "base_uri": "https://localhost:8080/"
        },
        "id": "1OXiW7JLlmom",
        "outputId": "9445972d-318f-42c0-a9cc-5db60c03e0f0"
      },
      "outputs": [
        {
          "output_type": "execute_result",
          "data": {
            "text/plain": [
              "[Microsoft,\n",
              " Corp.,\n",
              " today,\n",
              " announced,\n",
              " the,\n",
              " following,\n",
              " results,\n",
              " for,\n",
              " the,\n",
              " quarter]"
            ]
          },
          "metadata": {},
          "execution_count": 45
        }
      ],
      "source": [
        "filtered_tokens[:10]"
      ]
    },
    {
      "cell_type": "code",
      "execution_count": 52,
      "metadata": {
        "colab": {
          "base_uri": "https://localhost:8080/"
        },
        "id": "Ingj0tumlmon",
        "outputId": "4c8cb93c-49bc-4845-a885-1e6948c44c52"
      },
      "outputs": [
        {
          "output_type": "execute_result",
          "data": {
            "text/plain": [
              "{96: 13,\n",
              " 92: 46,\n",
              " 100: 24,\n",
              " 90: 9,\n",
              " 85: 16,\n",
              " 93: 16,\n",
              " 97: 27,\n",
              " 98: 1,\n",
              " 84: 21,\n",
              " 103: 10,\n",
              " 87: 6,\n",
              " 99: 5,\n",
              " 89: 12,\n",
              " 101: 2,\n",
              " 86: 3,\n",
              " 94: 3,\n",
              " 95: 2}"
            ]
          },
          "metadata": {},
          "execution_count": 52
        }
      ],
      "source": [
        "# hesablamaq isteyirsen ki, nece dene noun, verb etc. var. heresinin sayini bilmek for future, useful information olacaq\n",
        "# SpaCy nin bunun ucun API var = count_by() bundan istifade ederek edirsen :)\n",
        "# 96 kodlu nitq hissesinde olan sozlerden 13 dene var\n",
        "# bele cox ferqli xususiyyete gore elemek olur, umumi text analysis aparirsan\n",
        "count = doc.count_by(spacy.attrs.POS)\n",
        "count"
      ]
    },
    {
      "cell_type": "code",
      "source": [
        "# nece reqemli soz var, nece denedi. key hisse uzunluqlardi, value hisse sayi. meselen: corresponting sozu iki dene yan yana yazmisam textde ozum\n",
        "# yeni 13 herfli soz 2 denedi :)\n",
        "count = doc.count_by(spacy.attrs.LENGTH)\n",
        "count"
      ],
      "metadata": {
        "colab": {
          "base_uri": "https://localhost:8080/"
        },
        "id": "9cJWKX7Zy56M",
        "outputId": "b344d74a-3e97-4c06-f755-054d433e5acc"
      },
      "execution_count": 53,
      "outputs": [
        {
          "output_type": "execute_result",
          "data": {
            "text/plain": [
              "{9: 22,\n",
              " 5: 14,\n",
              " 3: 28,\n",
              " 7: 18,\n",
              " 8: 15,\n",
              " 2: 27,\n",
              " 1: 46,\n",
              " 4: 23,\n",
              " 13: 2,\n",
              " 6: 11,\n",
              " 10: 7,\n",
              " 11: 3}"
            ]
          },
          "metadata": {},
          "execution_count": 53
        }
      ]
    },
    {
      "cell_type": "code",
      "source": [
        "# rootu eyni olan sozlerden nece denedi, key hissede duran kod, root'un SpaCy librarysinde default teyin edilmis kodudu.\n",
        "# meselen: ilk sirada duran root sozun kodunda olan root sozlu soz 4 dene ver :) (yeni eyni koklu 4 soz var, hansi ki, onlarin kodu 1ci sirada durandi)\n",
        "count = doc.count_by(spacy.attrs.LEMMA)\n",
        "count"
      ],
      "metadata": {
        "colab": {
          "base_uri": "https://localhost:8080/"
        },
        "id": "Ne1avREXyvog",
        "outputId": "f315a69a-e457-4936-8643-09e0054f2921"
      },
      "execution_count": 54,
      "outputs": [
        {
          "output_type": "execute_result",
          "data": {
            "text/plain": [
              "{5291444330391917710: 4,\n",
              " 2554333856355376747: 1,\n",
              " 11042482332948150395: 1,\n",
              " 6100327276114004729: 1,\n",
              " 7425985699627899538: 5,\n",
              " 14462500713227930305: 1,\n",
              " 16479863421078305451: 1,\n",
              " 16037325823156266367: 1,\n",
              " 739118473499405117: 1,\n",
              " 18250316222013540736: 1,\n",
              " 17414849705601051338: 1,\n",
              " 16449342687276647362: 1,\n",
              " 2593208677638477497: 12,\n",
              " 8491910814525953907: 1,\n",
              " 7437575085468336610: 3,\n",
              " 14278262417543494430: 1,\n",
              " 3791531372978436496: 4,\n",
              " 544073968314893925: 2,\n",
              " 8930149225908759990: 1,\n",
              " 886050111519832510: 5,\n",
              " 10321518907502812892: 1,\n",
              " 9610662812043753135: 1,\n",
              " 14889849580704678361: 3,\n",
              " 11532473245541075862: 1,\n",
              " 908432558851201422: 1,\n",
              " 658638836119262832: 4,\n",
              " 6198647145348743278: 4,\n",
              " 7201113671556944259: 2,\n",
              " 10382539506755952630: 6,\n",
              " 11283501755624150392: 5,\n",
              " 16293468350184427037: 1,\n",
              " 1231493654637052630: 4,\n",
              " 2283656566040971221: 12,\n",
              " 1235234737819346896: 6,\n",
              " 2767521681098075859: 1,\n",
              " 16590897233515608007: 5,\n",
              " 962983613142996970: 5,\n",
              " 9854540405589975553: 1,\n",
              " 412539261082951473: 2,\n",
              " 7175373338537657100: 1,\n",
              " 17682212845846644677: 1,\n",
              " 2297266526497069708: 1,\n",
              " 17213007180700741556: 1,\n",
              " 4686009691886217934: 1,\n",
              " 9322907364353921387: 1,\n",
              " 1199148952538727511: 1,\n",
              " 799935474406865112: 1,\n",
              " 8233640825368986631: 1,\n",
              " 5733493841360585606: 1,\n",
              " 16299688167931099149: 1,\n",
              " 15884554869126768810: 6,\n",
              " 13247897656843016190: 1,\n",
              " 1740049878576065363: 2,\n",
              " 5775260393431306625: 1,\n",
              " 12646065887601541794: 4,\n",
              " 11104729984170784471: 1,\n",
              " 10947558540976502381: 1,\n",
              " 18066197654291781363: 1,\n",
              " 11667289587015813222: 1,\n",
              " 1703489418272052182: 1,\n",
              " 614914527630368944: 1,\n",
              " 6005990131996480419: 1,\n",
              " 6860282845233268539: 1,\n",
              " 4034753414341177942: 1,\n",
              " 7161876322335157720: 1,\n",
              " 12502803309396265471: 1,\n",
              " 10038440415813069799: 1,\n",
              " 16477424308483498569: 1,\n",
              " 8685289367999165211: 2,\n",
              " 6887717765040109723: 1,\n",
              " 18417729891835484761: 1,\n",
              " 578939380667959655: 1,\n",
              " 10240118006640966303: 2,\n",
              " 14727885303214594713: 2,\n",
              " 9228201189916158328: 2,\n",
              " 6747552776044674918: 1,\n",
              " 11901859001352538922: 3,\n",
              " 1835051818713045602: 1,\n",
              " 17053192215331816304: 1,\n",
              " 9644750448967877627: 1,\n",
              " 7058970474994285413: 1,\n",
              " 16064069575701507746: 1,\n",
              " 8029455976695103252: 1,\n",
              " 14584446156456879854: 1,\n",
              " 12865022372469924430: 1,\n",
              " 5020581141713847544: 1,\n",
              " 17623831665190758874: 1,\n",
              " 5355996235187316948: 1,\n",
              " 12510949447758279278: 1,\n",
              " 12010910475078340588: 2,\n",
              " 10174477573349670868: 1,\n",
              " 3119684760697245690: 1,\n",
              " 15099054000809333061: 1,\n",
              " 16034351688406267716: 1,\n",
              " 5265715978910192994: 1,\n",
              " 4380130941430378203: 1,\n",
              " 15704277557566387131: 1,\n",
              " 3719911510167778318: 1,\n",
              " 6807689115566132187: 1,\n",
              " 13164634093912748321: 1,\n",
              " 12663030773202738230: 1,\n",
              " 11674165167217260271: 1,\n",
              " 2369086909702694846: 1,\n",
              " 61639541167283652: 1,\n",
              " 12989256654461376186: 1,\n",
              " 16764210730586636600: 2,\n",
              " 12618292361406372890: 1,\n",
              " 13044640411510099787: 1,\n",
              " 15397529643674191988: 1,\n",
              " 9588452728179957059: 1,\n",
              " 12965068231793614765: 1,\n",
              " 9153284864653046197: 1,\n",
              " 4519742297340331040: 1,\n",
              " 9805150402525830243: 1,\n",
              " 15101176271007702840: 1,\n",
              " 2339017065815086148: 1,\n",
              " 12641393178282236034: 1,\n",
              " 2199259611705938403: 1,\n",
              " 4560107979603541987: 1,\n",
              " 5456543204961066030: 1,\n",
              " 13068962492010761897: 1,\n",
              " 2367576524458108857: 1,\n",
              " 9038890140267536272: 1,\n",
              " 13696383780240996584: 1,\n",
              " 12019518237760591348: 1}"
            ]
          },
          "metadata": {},
          "execution_count": 54
        }
      ]
    },
    {
      "cell_type": "code",
      "source": [
        "count = doc.count_by(spacy.attrs.POS)\n",
        "count"
      ],
      "metadata": {
        "colab": {
          "base_uri": "https://localhost:8080/"
        },
        "id": "WA6koKuo0EQV",
        "outputId": "0d4d5caa-fe43-48fc-c860-6454ba079dd7"
      },
      "execution_count": 59,
      "outputs": [
        {
          "output_type": "execute_result",
          "data": {
            "text/plain": [
              "{96: 13,\n",
              " 92: 46,\n",
              " 100: 24,\n",
              " 90: 9,\n",
              " 85: 16,\n",
              " 93: 16,\n",
              " 97: 27,\n",
              " 98: 1,\n",
              " 84: 21,\n",
              " 103: 10,\n",
              " 87: 6,\n",
              " 99: 5,\n",
              " 89: 12,\n",
              " 101: 2,\n",
              " 86: 3,\n",
              " 94: 3,\n",
              " 95: 2}"
            ]
          },
          "metadata": {},
          "execution_count": 59
        }
      ]
    },
    {
      "cell_type": "code",
      "execution_count": 60,
      "metadata": {
        "colab": {
          "base_uri": "https://localhost:8080/",
          "height": 35
        },
        "id": "64ZCNHXnlmoo",
        "outputId": "97fcf5cf-4f9b-4de3-874d-be675411c3ea"
      },
      "outputs": [
        {
          "output_type": "execute_result",
          "data": {
            "text/plain": [
              "'PROPN'"
            ],
            "application/vnd.google.colaboratory.intrinsic+json": {
              "type": "string"
            }
          },
          "metadata": {},
          "execution_count": 60
        }
      ],
      "source": [
        "doc.vocab[96].text"
      ]
    },
    {
      "cell_type": "code",
      "execution_count": 61,
      "metadata": {
        "colab": {
          "base_uri": "https://localhost:8080/"
        },
        "id": "1CGeUa1Tlmoo",
        "outputId": "e46a39a9-d31d-4e34-d27d-5e70ba2cd285"
      },
      "outputs": [
        {
          "output_type": "stream",
          "name": "stdout",
          "text": [
            "PROPN | 13\n",
            "NOUN | 46\n",
            "VERB | 24\n",
            "DET | 9\n",
            "ADP | 16\n",
            "NUM | 16\n",
            "PUNCT | 27\n",
            "SCONJ | 1\n",
            "ADJ | 21\n",
            "SPACE | 10\n",
            "AUX | 6\n",
            "SYM | 5\n",
            "CCONJ | 12\n",
            "X | 2\n",
            "ADV | 3\n",
            "PART | 3\n",
            "PRON | 2\n"
          ]
        }
      ],
      "source": [
        "# proper noun 13 dene var, noun 46 dene ve s. bu formada baxa bilersen\n",
        "for k,v in count.items():\n",
        "    print(doc.vocab[k].text, \"|\",v)"
      ]
    },
    {
      "cell_type": "code",
      "source": [
        "print('THANKS :)')"
      ],
      "metadata": {
        "colab": {
          "base_uri": "https://localhost:8080/"
        },
        "id": "DRMInr1D0gPI",
        "outputId": "1dd6a1e8-ea28-4016-f25a-6a7a4328de85"
      },
      "execution_count": 62,
      "outputs": [
        {
          "output_type": "stream",
          "name": "stdout",
          "text": [
            "THANKS :)\n"
          ]
        }
      ]
    }
  ],
  "metadata": {
    "kernelspec": {
      "display_name": "Python 3",
      "language": "python",
      "name": "python3"
    },
    "language_info": {
      "codemirror_mode": {
        "name": "ipython",
        "version": 3
      },
      "file_extension": ".py",
      "mimetype": "text/x-python",
      "name": "python",
      "nbconvert_exporter": "python",
      "pygments_lexer": "ipython3",
      "version": "3.8.5"
    },
    "colab": {
      "provenance": []
    }
  },
  "nbformat": 4,
  "nbformat_minor": 0
}