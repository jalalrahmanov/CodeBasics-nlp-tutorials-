{
  "cells": [
    {
      "cell_type": "markdown",
      "metadata": {
        "id": "52n-h9KGuj9F"
      },
      "source": [
        "<h2 align=\"center\">Spacy Tokenization Tutorial</h2>"
      ]
    },
    {
      "cell_type": "code",
      "execution_count": 1,
      "metadata": {
        "id": "pWg4OCz8uj9J"
      },
      "outputs": [],
      "source": [
        "import spacy"
      ]
    },
    {
      "cell_type": "markdown",
      "metadata": {
        "id": "pbImIqSGuj9L"
      },
      "source": [
        "Create blank language object and tokenize words in a sentence"
      ]
    },
    {
      "cell_type": "code",
      "execution_count": 2,
      "metadata": {
        "scrolled": true,
        "id": "4TVvq8yyuj9L",
        "outputId": "63ba3eb5-a02b-4320-9579-d14d246e24cb",
        "colab": {
          "base_uri": "https://localhost:8080/"
        }
      },
      "outputs": [
        {
          "output_type": "stream",
          "name": "stdout",
          "text": [
            "Dr.\n",
            "Strange\n",
            "loves\n",
            "pav\n",
            "bhaji\n",
            "of\n",
            "mumbai\n",
            "as\n",
            "it\n",
            "costs\n",
            "only\n",
            "2\n",
            "$\n",
            "per\n",
            "plate\n",
            ".\n"
          ]
        }
      ],
      "source": [
        "# en = english\n",
        "# spacy language models yazib axtarsan goresisen butun desteklediyi dilleri\n",
        "# blank ile yazanda tek tek cumleye ya da soze bolmek olmur, yeni doc.sents ya sonra da\n",
        "# sentence.words yazmaq olmur - load edende amma packageni elemek olur.\n",
        "# bu blank deyesen sadece durgu isarelerine gore bolur\n",
        "# burda nlp adinda language object yaradirsan. muxtelif usullari var\n",
        "# bele sade yaratmaq blank ile. load ile package daxil ederek daha advancedini yaratmaq. bu pipelinedir. gelecekde baxasiyiq.\n",
        "nlp = spacy.blank(\"en\")\n",
        "\n",
        "doc = nlp(\"Dr. Strange loves pav bhaji of mumbai as it costs only 2$ per plate.\")\n",
        "\n",
        "for token in doc:\n",
        "    print(token)"
      ]
    },
    {
      "cell_type": "code",
      "source": [
        "# ancaq bele durgu isareleri ile bolmek olur vessalam. az dili ucun package yoxdur\n",
        "nlp_az = spacy.blank(\"az\")\n",
        "\n",
        "doc_az = nlp_az(\"Bəxtiyar Vahabzadə 16 avqust 1925-ci ildə Şəki \\\n",
        "şəhərində fəhlə ailəsində anadan olmuşdur. Mahmud Vahabzadənin \\\n",
        "həyat yoldaşı isə 1905-ci il hadisələri zamanı yetim qalmış \\\n",
        "Vartaşendən olan erməni qızı olub, daha sonra Şəkidə Allahverdi \\\n",
        "adlı bir nəfərin himayəsində Gülzar adı ilə böyüdülüb. \")\n",
        "\n",
        "for token in doc_az:\n",
        "    print(token)"
      ],
      "metadata": {
        "id": "z98ackJ0vwGL",
        "outputId": "a32bd012-31e8-43d7-8a8c-684aa9a0d5cf",
        "colab": {
          "base_uri": "https://localhost:8080/"
        }
      },
      "execution_count": 3,
      "outputs": [
        {
          "output_type": "stream",
          "name": "stdout",
          "text": [
            "Bəxtiyar\n",
            "Vahabzadə\n",
            "16\n",
            "avqust\n",
            "1925-ci\n",
            "ildə\n",
            "Şəki\n",
            "şəhərində\n",
            "fəhlə\n",
            "ailəsində\n",
            "anadan\n",
            "olmuşdur\n",
            ".\n",
            "Mahmud\n",
            "Vahabzadənin\n",
            "həyat\n",
            "yoldaşı\n",
            "isə\n",
            "1905-ci\n",
            "il\n",
            "hadisələri\n",
            "zamanı\n",
            "yetim\n",
            "qalmış\n",
            "Vartaşendən\n",
            "olan\n",
            "erməni\n",
            "qızı\n",
            "olub\n",
            ",\n",
            "daha\n",
            "sonra\n",
            "Şəkidə\n",
            "Allahverdi\n",
            "adlı\n",
            "bir\n",
            "nəfərin\n",
            "himayəsində\n",
            "Gülzar\n",
            "adı\n",
            "ilə\n",
            "böyüdülüb\n",
            ".\n"
          ]
        }
      ]
    },
    {
      "cell_type": "code",
      "source": [
        "# english dilini isledek\n",
        "nlp_2 = spacy.load(\"en_core_web_sm\")\n",
        "\n",
        "# iki cumlelik metn daxil edirik\n",
        "doc_2 = nlp_2('Creating blank language object gives a tokenizer \\\n",
        "and an empty pipeline. We will look more into language pipelines \\\n",
        "in next tutorial')\n",
        "\n",
        "for sentence_token in doc_2.sents:\n",
        "    print(sentence_token)\n",
        "    print(type(sentence_token))"
      ],
      "metadata": {
        "id": "Z567FvbowzR1",
        "outputId": "232df274-63a9-4451-bc7a-0da1ec3f907a",
        "colab": {
          "base_uri": "https://localhost:8080/"
        }
      },
      "execution_count": 4,
      "outputs": [
        {
          "output_type": "stream",
          "name": "stdout",
          "text": [
            "Creating blank language object gives a tokenizer and an empty pipeline.\n",
            "<class 'spacy.tokens.span.Span'>\n",
            "We will look more into language pipelines in next tutorial\n",
            "<class 'spacy.tokens.span.Span'>\n"
          ]
        }
      ]
    },
    {
      "cell_type": "code",
      "source": [
        "for sentence_token in doc_2.sents:\n",
        "    for word_token in sentence_token:\n",
        "      print(word_token)\n",
        "      print(type(word_token))"
      ],
      "metadata": {
        "id": "OPXB6ifGy31o",
        "outputId": "84731d10-5a62-406b-a559-9af1181fce54",
        "colab": {
          "base_uri": "https://localhost:8080/"
        }
      },
      "execution_count": 5,
      "outputs": [
        {
          "output_type": "stream",
          "name": "stdout",
          "text": [
            "Creating\n",
            "<class 'spacy.tokens.token.Token'>\n",
            "blank\n",
            "<class 'spacy.tokens.token.Token'>\n",
            "language\n",
            "<class 'spacy.tokens.token.Token'>\n",
            "object\n",
            "<class 'spacy.tokens.token.Token'>\n",
            "gives\n",
            "<class 'spacy.tokens.token.Token'>\n",
            "a\n",
            "<class 'spacy.tokens.token.Token'>\n",
            "tokenizer\n",
            "<class 'spacy.tokens.token.Token'>\n",
            "and\n",
            "<class 'spacy.tokens.token.Token'>\n",
            "an\n",
            "<class 'spacy.tokens.token.Token'>\n",
            "empty\n",
            "<class 'spacy.tokens.token.Token'>\n",
            "pipeline\n",
            "<class 'spacy.tokens.token.Token'>\n",
            ".\n",
            "<class 'spacy.tokens.token.Token'>\n",
            "We\n",
            "<class 'spacy.tokens.token.Token'>\n",
            "will\n",
            "<class 'spacy.tokens.token.Token'>\n",
            "look\n",
            "<class 'spacy.tokens.token.Token'>\n",
            "more\n",
            "<class 'spacy.tokens.token.Token'>\n",
            "into\n",
            "<class 'spacy.tokens.token.Token'>\n",
            "language\n",
            "<class 'spacy.tokens.token.Token'>\n",
            "pipelines\n",
            "<class 'spacy.tokens.token.Token'>\n",
            "in\n",
            "<class 'spacy.tokens.token.Token'>\n",
            "next\n",
            "<class 'spacy.tokens.token.Token'>\n",
            "tutorial\n",
            "<class 'spacy.tokens.token.Token'>\n"
          ]
        }
      ]
    },
    {
      "cell_type": "code",
      "source": [
        "# # burda documentationdan baxsan (spacy models for languages) azerbaycan dilinin packagesi yoxdu\n",
        "# # english ucun ise 4 package var meselen\n",
        "# nlp_2 = spacy.load(\"???\")\n",
        "\n",
        "# # iki cumlelik metn daxil edirik\n",
        "# doc_2 = nlp_2('Creating blank language object gives a tokenizer \\\n",
        "# and an empty pipeline. We will look more into language pipelines \\\n",
        "# in next tutorial')\n",
        "\n",
        "# for token in doc_2.sents:\n",
        "#     print(token)"
      ],
      "metadata": {
        "id": "MrZq_jkzxJOl"
      },
      "execution_count": 6,
      "outputs": []
    },
    {
      "cell_type": "markdown",
      "metadata": {
        "id": "BPjNY95Guj9N"
      },
      "source": [
        "Creating blank language object gives a tokenizer and an empty pipeline. We will look more into language pipelines in next tutorial"
      ]
    },
    {
      "cell_type": "markdown",
      "metadata": {
        "id": "uzKrVfEeuj9O"
      },
      "source": [
        "<img src=\"https://github.com/jalalrahmanov/CodeBasics-nlp-tutorials-/blob/main/4_tokenization/spacy_blank_pipeline.jpg?raw=1\" height=100, width=500/>"
      ]
    },
    {
      "cell_type": "markdown",
      "metadata": {
        "id": "tDgQi-DHuj9P"
      },
      "source": [
        "<h3>Using index to grab tokens</h3>"
      ]
    },
    {
      "cell_type": "code",
      "execution_count": 7,
      "metadata": {
        "id": "q7K_MFAFuj9Q",
        "outputId": "35d40e6a-73f3-41ff-9f32-d897bf8c8d93",
        "colab": {
          "base_uri": "https://localhost:8080/"
        }
      },
      "outputs": [
        {
          "output_type": "execute_result",
          "data": {
            "text/plain": [
              "Dr."
            ]
          },
          "metadata": {},
          "execution_count": 7
        }
      ],
      "source": [
        "doc[0]"
      ]
    },
    {
      "cell_type": "code",
      "execution_count": 8,
      "metadata": {
        "scrolled": true,
        "id": "xsMipsipuj9R",
        "outputId": "dec88391-4c28-457f-bc2f-815b2fed6ff2",
        "colab": {
          "base_uri": "https://localhost:8080/",
          "height": 35
        }
      },
      "outputs": [
        {
          "output_type": "execute_result",
          "data": {
            "text/plain": [
              "'Strange'"
            ],
            "application/vnd.google.colaboratory.intrinsic+json": {
              "type": "string"
            }
          },
          "metadata": {},
          "execution_count": 8
        }
      ],
      "source": [
        "token = doc[1]\n",
        "token.text"
      ]
    },
    {
      "cell_type": "code",
      "execution_count": 9,
      "metadata": {
        "scrolled": false,
        "id": "WIzcEJjZuj9S",
        "outputId": "fb725f53-83af-43ee-e7b9-300a8414ff63",
        "colab": {
          "base_uri": "https://localhost:8080/"
        }
      },
      "outputs": [
        {
          "output_type": "execute_result",
          "data": {
            "text/plain": [
              "['_',\n",
              " '__bytes__',\n",
              " '__class__',\n",
              " '__delattr__',\n",
              " '__dir__',\n",
              " '__doc__',\n",
              " '__eq__',\n",
              " '__format__',\n",
              " '__ge__',\n",
              " '__getattribute__',\n",
              " '__gt__',\n",
              " '__hash__',\n",
              " '__init__',\n",
              " '__init_subclass__',\n",
              " '__le__',\n",
              " '__len__',\n",
              " '__lt__',\n",
              " '__ne__',\n",
              " '__new__',\n",
              " '__pyx_vtable__',\n",
              " '__reduce__',\n",
              " '__reduce_ex__',\n",
              " '__repr__',\n",
              " '__setattr__',\n",
              " '__sizeof__',\n",
              " '__str__',\n",
              " '__subclasshook__',\n",
              " '__unicode__',\n",
              " 'ancestors',\n",
              " 'check_flag',\n",
              " 'children',\n",
              " 'cluster',\n",
              " 'conjuncts',\n",
              " 'dep',\n",
              " 'dep_',\n",
              " 'doc',\n",
              " 'ent_id',\n",
              " 'ent_id_',\n",
              " 'ent_iob',\n",
              " 'ent_iob_',\n",
              " 'ent_kb_id',\n",
              " 'ent_kb_id_',\n",
              " 'ent_type',\n",
              " 'ent_type_',\n",
              " 'get_extension',\n",
              " 'has_dep',\n",
              " 'has_extension',\n",
              " 'has_head',\n",
              " 'has_morph',\n",
              " 'has_vector',\n",
              " 'head',\n",
              " 'i',\n",
              " 'idx',\n",
              " 'iob_strings',\n",
              " 'is_alpha',\n",
              " 'is_ancestor',\n",
              " 'is_ascii',\n",
              " 'is_bracket',\n",
              " 'is_currency',\n",
              " 'is_digit',\n",
              " 'is_left_punct',\n",
              " 'is_lower',\n",
              " 'is_oov',\n",
              " 'is_punct',\n",
              " 'is_quote',\n",
              " 'is_right_punct',\n",
              " 'is_sent_end',\n",
              " 'is_sent_start',\n",
              " 'is_space',\n",
              " 'is_stop',\n",
              " 'is_title',\n",
              " 'is_upper',\n",
              " 'lang',\n",
              " 'lang_',\n",
              " 'left_edge',\n",
              " 'lefts',\n",
              " 'lemma',\n",
              " 'lemma_',\n",
              " 'lex',\n",
              " 'lex_id',\n",
              " 'like_email',\n",
              " 'like_num',\n",
              " 'like_url',\n",
              " 'lower',\n",
              " 'lower_',\n",
              " 'morph',\n",
              " 'n_lefts',\n",
              " 'n_rights',\n",
              " 'nbor',\n",
              " 'norm',\n",
              " 'norm_',\n",
              " 'orth',\n",
              " 'orth_',\n",
              " 'pos',\n",
              " 'pos_',\n",
              " 'prefix',\n",
              " 'prefix_',\n",
              " 'prob',\n",
              " 'rank',\n",
              " 'remove_extension',\n",
              " 'right_edge',\n",
              " 'rights',\n",
              " 'sent',\n",
              " 'sent_start',\n",
              " 'sentiment',\n",
              " 'set_extension',\n",
              " 'set_morph',\n",
              " 'shape',\n",
              " 'shape_',\n",
              " 'similarity',\n",
              " 'subtree',\n",
              " 'suffix',\n",
              " 'suffix_',\n",
              " 'tag',\n",
              " 'tag_',\n",
              " 'tensor',\n",
              " 'text',\n",
              " 'text_with_ws',\n",
              " 'vector',\n",
              " 'vector_norm',\n",
              " 'vocab',\n",
              " 'whitespace_']"
            ]
          },
          "metadata": {},
          "execution_count": 9
        }
      ],
      "source": [
        "dir(token)"
      ]
    },
    {
      "cell_type": "code",
      "execution_count": 10,
      "metadata": {
        "id": "KiexNKgJuj9T",
        "outputId": "871a8c40-1d4b-472e-92d8-d380b8f67ed2",
        "colab": {
          "base_uri": "https://localhost:8080/"
        }
      },
      "outputs": [
        {
          "output_type": "execute_result",
          "data": {
            "text/plain": [
              "spacy.lang.en.English"
            ]
          },
          "metadata": {},
          "execution_count": 10
        }
      ],
      "source": [
        "type(nlp)"
      ]
    },
    {
      "cell_type": "code",
      "execution_count": 11,
      "metadata": {
        "id": "lINs5Lt9uj9U",
        "outputId": "4839f57c-f016-4f23-a1f3-2c6bbfe7318b",
        "colab": {
          "base_uri": "https://localhost:8080/"
        }
      },
      "outputs": [
        {
          "output_type": "execute_result",
          "data": {
            "text/plain": [
              "spacy.tokens.doc.Doc"
            ]
          },
          "metadata": {},
          "execution_count": 11
        }
      ],
      "source": [
        "type(doc)"
      ]
    },
    {
      "cell_type": "code",
      "execution_count": 12,
      "metadata": {
        "id": "0yCjSWVduj9V",
        "outputId": "4b152b4e-6d24-4d88-d5d3-4f2cb5137a54",
        "colab": {
          "base_uri": "https://localhost:8080/"
        }
      },
      "outputs": [
        {
          "output_type": "execute_result",
          "data": {
            "text/plain": [
              "spacy.tokens.token.Token"
            ]
          },
          "metadata": {},
          "execution_count": 12
        }
      ],
      "source": [
        "type(token)"
      ]
    },
    {
      "cell_type": "code",
      "execution_count": 13,
      "metadata": {
        "scrolled": true,
        "id": "M73NpNa6uj9V",
        "outputId": "1aaea468-4d18-4ce3-887b-e615bf694f21",
        "colab": {
          "base_uri": "https://localhost:8080/"
        }
      },
      "outputs": [
        {
          "output_type": "execute_result",
          "data": {
            "text/plain": [
              "[]"
            ]
          },
          "metadata": {},
          "execution_count": 13
        }
      ],
      "source": [
        "nlp.pipe_names"
      ]
    },
    {
      "cell_type": "markdown",
      "metadata": {
        "id": "ke3fAhoKuj9W"
      },
      "source": [
        "<h3>Span object</h3>"
      ]
    },
    {
      "cell_type": "code",
      "execution_count": 14,
      "metadata": {
        "id": "VaHGf-jVuj9W",
        "outputId": "4bf5c7fe-fb46-4312-b73e-5d277bf50b9f",
        "colab": {
          "base_uri": "https://localhost:8080/"
        }
      },
      "outputs": [
        {
          "output_type": "execute_result",
          "data": {
            "text/plain": [
              "Dr. Strange loves pav bhaji"
            ]
          },
          "metadata": {},
          "execution_count": 14
        }
      ],
      "source": [
        "span = doc[0:5]\n",
        "span"
      ]
    },
    {
      "cell_type": "code",
      "execution_count": 15,
      "metadata": {
        "id": "rSjd_RS_uj9X",
        "outputId": "8149234f-4b29-420f-d4d2-768d5462a4ac",
        "colab": {
          "base_uri": "https://localhost:8080/"
        }
      },
      "outputs": [
        {
          "output_type": "execute_result",
          "data": {
            "text/plain": [
              "spacy.tokens.span.Span"
            ]
          },
          "metadata": {},
          "execution_count": 15
        }
      ],
      "source": [
        "type(span)"
      ]
    },
    {
      "cell_type": "markdown",
      "metadata": {
        "id": "udOd6_TUuj9Y"
      },
      "source": [
        "<h3>Token attributes</h3>"
      ]
    },
    {
      "cell_type": "code",
      "execution_count": 16,
      "metadata": {
        "id": "uP4GjLfGuj9Y"
      },
      "outputs": [],
      "source": [
        "doc = nlp(\"Tony gave two $ to Peter.\")"
      ]
    },
    {
      "cell_type": "code",
      "execution_count": 17,
      "metadata": {
        "id": "ToPjyRhWuj9Y",
        "outputId": "5fda8361-d2ee-4e27-c692-a0f61f0e482c",
        "colab": {
          "base_uri": "https://localhost:8080/"
        }
      },
      "outputs": [
        {
          "output_type": "execute_result",
          "data": {
            "text/plain": [
              "Tony"
            ]
          },
          "metadata": {},
          "execution_count": 17
        }
      ],
      "source": [
        "token0 = doc[0]\n",
        "token0"
      ]
    },
    {
      "cell_type": "code",
      "execution_count": 18,
      "metadata": {
        "id": "SNN8PzzKuj9Z",
        "outputId": "5a35aca5-c331-4e68-dee7-f961167cdffc",
        "colab": {
          "base_uri": "https://localhost:8080/"
        }
      },
      "outputs": [
        {
          "output_type": "execute_result",
          "data": {
            "text/plain": [
              "True"
            ]
          },
          "metadata": {},
          "execution_count": 18
        }
      ],
      "source": [
        "# alpha - alphabetic\n",
        "token0.is_alpha"
      ]
    },
    {
      "cell_type": "code",
      "execution_count": 19,
      "metadata": {
        "scrolled": true,
        "id": "HlODEhvUuj9Z",
        "outputId": "eae7885f-d275-4a3b-d1e8-c4afa088b66d",
        "colab": {
          "base_uri": "https://localhost:8080/"
        }
      },
      "outputs": [
        {
          "output_type": "execute_result",
          "data": {
            "text/plain": [
              "False"
            ]
          },
          "metadata": {},
          "execution_count": 19
        }
      ],
      "source": [
        "token0.like_num"
      ]
    },
    {
      "cell_type": "code",
      "execution_count": 20,
      "metadata": {
        "id": "UleJMa1guj9Z",
        "outputId": "683fb962-cb2f-481d-fc2d-474e069aeae0",
        "colab": {
          "base_uri": "https://localhost:8080/"
        }
      },
      "outputs": [
        {
          "output_type": "execute_result",
          "data": {
            "text/plain": [
              "two"
            ]
          },
          "metadata": {},
          "execution_count": 20
        }
      ],
      "source": [
        "token2 = doc[2]\n",
        "token2"
      ]
    },
    {
      "cell_type": "code",
      "source": [
        "token2.text"
      ],
      "metadata": {
        "id": "tPnBrNRLGP5o",
        "outputId": "d3414b88-922d-417a-fc89-92b79d739167",
        "colab": {
          "base_uri": "https://localhost:8080/",
          "height": 35
        }
      },
      "execution_count": 21,
      "outputs": [
        {
          "output_type": "execute_result",
          "data": {
            "text/plain": [
              "'two'"
            ],
            "application/vnd.google.colaboratory.intrinsic+json": {
              "type": "string"
            }
          },
          "metadata": {},
          "execution_count": 21
        }
      ]
    },
    {
      "cell_type": "code",
      "execution_count": 22,
      "metadata": {
        "id": "L9FgD0Qauj9a",
        "outputId": "5c7ac5aa-25a3-4a5c-aa81-52c53ea3c5a2",
        "colab": {
          "base_uri": "https://localhost:8080/"
        }
      },
      "outputs": [
        {
          "output_type": "execute_result",
          "data": {
            "text/plain": [
              "True"
            ]
          },
          "metadata": {},
          "execution_count": 22
        }
      ],
      "source": [
        "token2.like_num"
      ]
    },
    {
      "cell_type": "code",
      "execution_count": 23,
      "metadata": {
        "id": "CGGz8ZRiuj9a"
      },
      "outputs": [],
      "source": [
        "token3 = doc[3]"
      ]
    },
    {
      "cell_type": "code",
      "source": [
        "token3"
      ],
      "metadata": {
        "id": "bPMw7YdcGjw2",
        "outputId": "e841591e-e47b-4e60-d963-b7c73f88e1d0",
        "colab": {
          "base_uri": "https://localhost:8080/"
        }
      },
      "execution_count": 24,
      "outputs": [
        {
          "output_type": "execute_result",
          "data": {
            "text/plain": [
              "$"
            ]
          },
          "metadata": {},
          "execution_count": 24
        }
      ]
    },
    {
      "cell_type": "code",
      "source": [
        "type(token3)"
      ],
      "metadata": {
        "id": "-Q8bwfj1GoqX",
        "outputId": "93f2a823-363f-4363-e60d-7c35d3d2fbff",
        "colab": {
          "base_uri": "https://localhost:8080/"
        }
      },
      "execution_count": 25,
      "outputs": [
        {
          "output_type": "execute_result",
          "data": {
            "text/plain": [
              "spacy.tokens.token.Token"
            ]
          },
          "metadata": {},
          "execution_count": 25
        }
      ]
    },
    {
      "cell_type": "code",
      "source": [
        "token3.text"
      ],
      "metadata": {
        "id": "wHKqIVfyGlks",
        "outputId": "6e6ac708-703c-418e-df40-2d2d6780dfb6",
        "colab": {
          "base_uri": "https://localhost:8080/",
          "height": 35
        }
      },
      "execution_count": 26,
      "outputs": [
        {
          "output_type": "execute_result",
          "data": {
            "text/plain": [
              "'$'"
            ],
            "application/vnd.google.colaboratory.intrinsic+json": {
              "type": "string"
            }
          },
          "metadata": {},
          "execution_count": 26
        }
      ]
    },
    {
      "cell_type": "code",
      "source": [
        "type(token3.text)"
      ],
      "metadata": {
        "id": "EfroayaZGqls",
        "outputId": "60017931-7094-41c5-ca63-b7e8413371cc",
        "colab": {
          "base_uri": "https://localhost:8080/"
        }
      },
      "execution_count": 27,
      "outputs": [
        {
          "output_type": "execute_result",
          "data": {
            "text/plain": [
              "str"
            ]
          },
          "metadata": {},
          "execution_count": 27
        }
      ]
    },
    {
      "cell_type": "code",
      "execution_count": 28,
      "metadata": {
        "id": "iYmwLmNvuj9a",
        "outputId": "d19215f7-742a-43c2-c9ca-5fccdda5c5bc",
        "colab": {
          "base_uri": "https://localhost:8080/"
        }
      },
      "outputs": [
        {
          "output_type": "execute_result",
          "data": {
            "text/plain": [
              "False"
            ]
          },
          "metadata": {},
          "execution_count": 28
        }
      ],
      "source": [
        "token3.like_num"
      ]
    },
    {
      "cell_type": "code",
      "execution_count": 29,
      "metadata": {
        "id": "nGxw1EBruj9a",
        "outputId": "f83842cd-0036-4511-a91d-ef307fe73944",
        "colab": {
          "base_uri": "https://localhost:8080/"
        }
      },
      "outputs": [
        {
          "output_type": "execute_result",
          "data": {
            "text/plain": [
              "True"
            ]
          },
          "metadata": {},
          "execution_count": 29
        }
      ],
      "source": [
        "token3.is_currency"
      ]
    },
    {
      "cell_type": "code",
      "execution_count": 30,
      "metadata": {
        "scrolled": true,
        "id": "n-B_JT71uj9b",
        "outputId": "d32b47fc-85f4-4de2-9362-215ba4f05b7a",
        "colab": {
          "base_uri": "https://localhost:8080/"
        }
      },
      "outputs": [
        {
          "output_type": "stream",
          "name": "stdout",
          "text": [
            "Tony ==> index:  0 is_alpha: True is_punct: False like_num: False is_currency: False\n",
            "gave ==> index:  1 is_alpha: True is_punct: False like_num: False is_currency: False\n",
            "two ==> index:  2 is_alpha: True is_punct: False like_num: True is_currency: False\n",
            "$ ==> index:  3 is_alpha: False is_punct: False like_num: False is_currency: True\n",
            "to ==> index:  4 is_alpha: True is_punct: False like_num: False is_currency: False\n",
            "Peter ==> index:  5 is_alpha: True is_punct: False like_num: False is_currency: False\n",
            ". ==> index:  6 is_alpha: False is_punct: True like_num: False is_currency: False\n"
          ]
        }
      ],
      "source": [
        "for token in doc:\n",
        "    print(token, \"==>\", \"index: \", token.i, \"is_alpha:\", token.is_alpha,\n",
        "          \"is_punct:\", token.is_punct,\n",
        "          \"like_num:\", token.like_num,\n",
        "          \"is_currency:\", token.is_currency,\n",
        "         )"
      ]
    },
    {
      "cell_type": "markdown",
      "metadata": {
        "id": "j1xWkAHsuj9b"
      },
      "source": [
        "<h3>Collecting email ids of students from students information sheet</h3>"
      ]
    },
    {
      "cell_type": "code",
      "execution_count": 33,
      "metadata": {
        "id": "rpcWkxQDuj9c",
        "outputId": "ba740124-599f-4ada-b4fb-4f95a0ab5241",
        "colab": {
          "base_uri": "https://localhost:8080/"
        }
      },
      "outputs": [
        {
          "output_type": "execute_result",
          "data": {
            "text/plain": [
              "['Dayton high school, 8th grade students information\\n',\n",
              " '==================================================\\n',\n",
              " '\\n',\n",
              " 'Name\\tbirth day   \\temail\\n',\n",
              " '-----\\t------------\\t------\\n',\n",
              " 'Virat   5 June, 1882    virat@kohli.com\\n',\n",
              " 'Maria\\t12 April, 2001  maria@sharapova.com\\n',\n",
              " 'Serena  24 June, 1998   serena@williams.com \\n',\n",
              " 'Joe      1 May, 1997    joe@root.com']"
            ]
          },
          "metadata": {},
          "execution_count": 33
        }
      ],
      "source": [
        "with open(\"students.txt\") as f:\n",
        "    text = f.readlines()\n",
        "text"
      ]
    },
    {
      "cell_type": "code",
      "execution_count": 34,
      "metadata": {
        "id": "ZdZgNir9uj9c",
        "outputId": "2011476e-b7e1-41d4-9afe-9859697b33da",
        "colab": {
          "base_uri": "https://localhost:8080/",
          "height": 70
        }
      },
      "outputs": [
        {
          "output_type": "execute_result",
          "data": {
            "text/plain": [
              "'Dayton high school, 8th grade students information\\n ==================================================\\n \\n Name\\tbirth day   \\temail\\n -----\\t------------\\t------\\n Virat   5 June, 1882    virat@kohli.com\\n Maria\\t12 April, 2001  maria@sharapova.com\\n Serena  24 June, 1998   serena@williams.com \\n Joe      1 May, 1997    joe@root.com'"
            ],
            "application/vnd.google.colaboratory.intrinsic+json": {
              "type": "string"
            }
          },
          "metadata": {},
          "execution_count": 34
        }
      ],
      "source": [
        "text = \" \".join(text)\n",
        "text"
      ]
    },
    {
      "cell_type": "code",
      "execution_count": 35,
      "metadata": {
        "id": "vwIXtMczuj9c",
        "outputId": "35e79750-04e1-42e2-f19a-d11961337b5a",
        "colab": {
          "base_uri": "https://localhost:8080/"
        }
      },
      "outputs": [
        {
          "output_type": "execute_result",
          "data": {
            "text/plain": [
              "['virat@kohli.com',\n",
              " 'maria@sharapova.com',\n",
              " 'serena@williams.com',\n",
              " 'joe@root.com']"
            ]
          },
          "metadata": {},
          "execution_count": 35
        }
      ],
      "source": [
        "doc = nlp(text)\n",
        "emails = []\n",
        "for token in doc:\n",
        "    if token.like_email:\n",
        "        emails.append(token.text)\n",
        "emails"
      ]
    },
    {
      "cell_type": "markdown",
      "metadata": {
        "id": "96r2zUrmuj9d"
      },
      "source": [
        "<h3>Support in other languages</h3>"
      ]
    },
    {
      "cell_type": "markdown",
      "metadata": {
        "id": "lt2jp1j5uj9d"
      },
      "source": [
        "Spacy support many language models. Some of them do not support pipelines though!\n",
        "https://spacy.io/usage/models#languages"
      ]
    },
    {
      "cell_type": "code",
      "execution_count": 36,
      "metadata": {
        "scrolled": false,
        "id": "5Luanu6cuj9d",
        "outputId": "137c5dbe-d2de-47e0-aad0-8e1945708388",
        "colab": {
          "base_uri": "https://localhost:8080/"
        }
      },
      "outputs": [
        {
          "output_type": "stream",
          "name": "stdout",
          "text": [
            "भैया False\n",
            "जी False\n",
            "! False\n",
            "5000 False\n",
            "₹ True\n",
            "उधार False\n",
            "थे False\n",
            "वो False\n",
            "वापस False\n",
            "देदो False\n"
          ]
        }
      ],
      "source": [
        "nlp = spacy.blank(\"hi\")\n",
        "doc = nlp(\"भैया जी! 5000 ₹ उधार थे वो वापस देदो\")\n",
        "for token in doc:\n",
        "    print(token, token.is_currency)"
      ]
    },
    {
      "cell_type": "markdown",
      "metadata": {
        "id": "ukLMYwf5uj9e"
      },
      "source": [
        "<h3>Customizing tokenizer</h3>"
      ]
    },
    {
      "cell_type": "code",
      "execution_count": 37,
      "metadata": {
        "id": "orhsydPsuj9f",
        "outputId": "bf73da77-0950-4769-e071-c2a67c781f3a",
        "colab": {
          "base_uri": "https://localhost:8080/"
        }
      },
      "outputs": [
        {
          "output_type": "execute_result",
          "data": {
            "text/plain": [
              "['gimme', 'double', 'cheese', 'extra', 'large', 'healthy', 'pizza']"
            ]
          },
          "metadata": {},
          "execution_count": 37
        }
      ],
      "source": [
        "from spacy.symbols import ORTH\n",
        "\n",
        "nlp = spacy.blank(\"en\")\n",
        "doc = nlp(\"gimme double cheese extra large healthy pizza\")\n",
        "tokens = [token.text for token in doc]\n",
        "tokens"
      ]
    },
    {
      "cell_type": "code",
      "execution_count": 38,
      "metadata": {
        "scrolled": true,
        "id": "502Y95ZQuj9f",
        "outputId": "0457ebb6-ebc4-4d00-808e-07d39bb2ffae",
        "colab": {
          "base_uri": "https://localhost:8080/"
        }
      },
      "outputs": [
        {
          "output_type": "execute_result",
          "data": {
            "text/plain": [
              "['gim', 'me', 'double', 'cheese', 'extra', 'large', 'healthy', 'pizza']"
            ]
          },
          "metadata": {},
          "execution_count": 38
        }
      ],
      "source": [
        "nlp.tokenizer.add_special_case(\"gimme\", [\n",
        "    {ORTH: \"gim\"},\n",
        "    {ORTH: \"me\"},\n",
        "])\n",
        "# burda dusune bilersen ki, birbasa gimme sozunu give ve me olaraq yazsin. bu olmur. cunki hardan boleceyini bilmir. bunu sonradan etmek olur.\n",
        "# asagida onu da etmeyin usulu var -> amma en axirinci yorumda olan kodu run edenden sonra bura isleyir. Pipeline movzusudur\n",
        "doc = nlp(\"gimme double cheese extra large healthy pizza\")\n",
        "tokens = [token.text for token in doc]\n",
        "tokens"
      ]
    },
    {
      "cell_type": "code",
      "source": [
        "nlp.pipeline"
      ],
      "metadata": {
        "id": "mixWETsyPGJq",
        "outputId": "7c6b7a13-75e0-4716-c82b-213094bd7e99",
        "colab": {
          "base_uri": "https://localhost:8080/"
        }
      },
      "execution_count": 39,
      "outputs": [
        {
          "output_type": "execute_result",
          "data": {
            "text/plain": [
              "[]"
            ]
          },
          "metadata": {},
          "execution_count": 39
        }
      ]
    },
    {
      "cell_type": "code",
      "source": [
        "# bu altdaki kimi bir seyi ferqli seye deyismek umumiyyetle mumkun deyil bu usulla. Pipeline will come to stage.\n",
        "# nlp.tokenizer.add_special_case(\"gim\", [\n",
        "#     {ORTH: \"give\"}\n",
        "# ])\n",
        "\n",
        "doc = nlp(\"gimme double cheese extra large healthy pizza\")\n",
        "tokens = [token.text for token in doc]\n",
        "tokens"
      ],
      "metadata": {
        "id": "7tPhIb_UNXLb",
        "outputId": "2df127c7-c7d6-4273-d554-8ebe510d96e6",
        "colab": {
          "base_uri": "https://localhost:8080/"
        }
      },
      "execution_count": 40,
      "outputs": [
        {
          "output_type": "execute_result",
          "data": {
            "text/plain": [
              "['gim', 'me', 'double', 'cheese', 'extra', 'large', 'healthy', 'pizza']"
            ]
          },
          "metadata": {},
          "execution_count": 40
        }
      ]
    },
    {
      "cell_type": "code",
      "source": [
        "# import spacy\n",
        "# from spacy.tokenizer import Tokenizer\n",
        "# from spacy.tokens import Doc\n",
        "\n",
        "# nlp = spacy.blank(\"en\")\n",
        "\n",
        "# # Define a custom special case for \"gimme\"\n",
        "# nlp.tokenizer.add_special_case(\"gimme\", [\n",
        "#     {ORTH: \"gim\"},\n",
        "#     {ORTH: \"me\"},\n",
        "# ])\n",
        "\n",
        "# # Define a custom special case for converting \"gim\" to \"give\"\n",
        "# nlp.tokenizer.add_special_case(\"gim\", [\n",
        "#     {ORTH: \"give\"},\n",
        "# ])\n",
        "\n",
        "# # Create a Doc object\n",
        "# doc = nlp(\"gimme double cheese extra large healthy pizza\")\n",
        "\n",
        "# # Process the Doc with the modified tokenizer\n",
        "# tokens = [token.text for token in doc]\n",
        "# tokens\n"
      ],
      "metadata": {
        "id": "hDAeEBBPN1CA"
      },
      "execution_count": 41,
      "outputs": []
    },
    {
      "cell_type": "code",
      "source": [
        "# import spacy\n",
        "# from spacy.tokens import Doc\n",
        "\n",
        "# # Define a custom pipeline component to replace tokens\n",
        "# def replace_tokens(doc):\n",
        "#     new_tokens = []\n",
        "#     for token in doc:\n",
        "#         # Replace 'gim' with 'give'\n",
        "#         if token.text == 'gim':\n",
        "#             new_tokens.extend([Doc(token.doc.vocab, words=['give']), Doc(token.doc.vocab, words=['me'])])\n",
        "#         else:\n",
        "#             new_tokens.append(token)\n",
        "#     return Doc(doc.vocab, words=[t.text for t in new_tokens])\n",
        "\n",
        "# # Load spaCy model\n",
        "# nlp = spacy.blank(\"en\")\n",
        "\n",
        "# # Add the custom pipeline component\n",
        "# nlp.add_pipe(replace_tokens, name=\"replace_tokens\", last=True)\n",
        "\n",
        "# # Process the text\n",
        "# doc = nlp(\"gimme double cheese extra large healthy pizza\")\n",
        "\n",
        "# # Get the final tokens\n",
        "# tokens = [token.text for token in doc]\n",
        "# print(tokens)\n"
      ],
      "metadata": {
        "id": "dg6i7Bp0OFh5"
      },
      "execution_count": 42,
      "outputs": []
    },
    {
      "cell_type": "code",
      "source": [
        "# import spacy\n",
        "# from spacy.tokens import Doc\n",
        "# from spacy.language import Language\n",
        "\n",
        "# # Define a custom pipeline component to replace tokens\n",
        "# @Language.component(\"replace_tokens\")\n",
        "# def replace_tokens(doc):\n",
        "#     new_tokens = []\n",
        "#     for token in doc:\n",
        "#         # Replace 'gim' with 'give'\n",
        "#         if token.text == 'gim':\n",
        "#             new_tokens.extend([Doc(token.doc.vocab, words=['give']), Doc(token.doc.vocab, words=['me'])])\n",
        "#         else:\n",
        "#             new_tokens.append(token)\n",
        "#     return Doc(doc.vocab, words=[t.text for t in new_tokens])\n",
        "\n",
        "# # Load spaCy model\n",
        "# nlp = spacy.blank(\"en\")\n",
        "\n",
        "# # Add the custom pipeline component\n",
        "# nlp.add_pipe(\"replace_tokens\", last=True)\n",
        "\n",
        "# # Process the text\n",
        "# doc = nlp(\"gimme double cheese extra large healthy pizza\")\n",
        "\n",
        "# # Get the final tokens\n",
        "# tokens = [token.text for token in doc]\n",
        "# print(tokens)\n"
      ],
      "metadata": {
        "id": "PtLswRZhOM8z"
      },
      "execution_count": 43,
      "outputs": []
    },
    {
      "cell_type": "markdown",
      "metadata": {
        "id": "zCuJ2KFLuj9g"
      },
      "source": [
        "<h3>Sentence Tokenization or Segmentation</h3>"
      ]
    },
    {
      "cell_type": "code",
      "execution_count": 46,
      "metadata": {
        "id": "Pq21EexPuj9i",
        "outputId": "97d2c63d-b909-45bc-df3c-e9298b1bf32f",
        "colab": {
          "base_uri": "https://localhost:8080/",
          "height": 297
        }
      },
      "outputs": [
        {
          "output_type": "error",
          "ename": "ValueError",
          "evalue": "[E030] Sentence boundaries unset. You can add the 'sentencizer' component to the pipeline with: `nlp.add_pipe('sentencizer')`. Alternatively, add the dependency parser or sentence recognizer, or set sentence boundaries by setting `doc[i].is_sent_start`.",
          "traceback": [
            "\u001b[0;31m---------------------------------------------------------------------------\u001b[0m",
            "\u001b[0;31mValueError\u001b[0m                                Traceback (most recent call last)",
            "\u001b[0;32m<ipython-input-46-6a61d75fa9b7>\u001b[0m in \u001b[0;36m<cell line: 3>\u001b[0;34m()\u001b[0m\n\u001b[1;32m      1\u001b[0m \u001b[0;31m# error verecek\u001b[0m\u001b[0;34m\u001b[0m\u001b[0;34m\u001b[0m\u001b[0m\n\u001b[1;32m      2\u001b[0m \u001b[0mdoc\u001b[0m \u001b[0;34m=\u001b[0m \u001b[0mnlp\u001b[0m\u001b[0;34m(\u001b[0m\u001b[0;34m\"Dr. Strange loves pav bhaji of mumbai. Hulk loves chat of delhi\"\u001b[0m\u001b[0;34m)\u001b[0m\u001b[0;34m\u001b[0m\u001b[0;34m\u001b[0m\u001b[0m\n\u001b[0;32m----> 3\u001b[0;31m \u001b[0;32mfor\u001b[0m \u001b[0msentence\u001b[0m \u001b[0;32min\u001b[0m \u001b[0mdoc\u001b[0m\u001b[0;34m.\u001b[0m\u001b[0msents\u001b[0m\u001b[0;34m:\u001b[0m\u001b[0;34m\u001b[0m\u001b[0;34m\u001b[0m\u001b[0m\n\u001b[0m\u001b[1;32m      4\u001b[0m     \u001b[0mprint\u001b[0m\u001b[0;34m(\u001b[0m\u001b[0msentence\u001b[0m\u001b[0;34m)\u001b[0m\u001b[0;34m\u001b[0m\u001b[0;34m\u001b[0m\u001b[0m\n",
            "\u001b[0;32m/usr/local/lib/python3.10/dist-packages/spacy/tokens/doc.pyx\u001b[0m in \u001b[0;36msents\u001b[0;34m()\u001b[0m\n",
            "\u001b[0;31mValueError\u001b[0m: [E030] Sentence boundaries unset. You can add the 'sentencizer' component to the pipeline with: `nlp.add_pipe('sentencizer')`. Alternatively, add the dependency parser or sentence recognizer, or set sentence boundaries by setting `doc[i].is_sent_start`."
          ]
        }
      ],
      "source": [
        "# error verecek. errorda solutionu da gosterir\n",
        "doc = nlp(\"Dr. Strange loves pav bhaji of mumbai. Hulk loves chat of delhi\")\n",
        "for sentence in doc.sents:\n",
        "    print(sentence)"
      ]
    },
    {
      "cell_type": "code",
      "execution_count": 47,
      "metadata": {
        "id": "UovdGPweuj9j",
        "outputId": "3b200659-5406-4923-ad07-c388bb8efb40",
        "colab": {
          "base_uri": "https://localhost:8080/"
        }
      },
      "outputs": [
        {
          "output_type": "execute_result",
          "data": {
            "text/plain": [
              "[]"
            ]
          },
          "metadata": {},
          "execution_count": 47
        }
      ],
      "source": [
        "# pipeline is blank, bosdur yeni\n",
        "nlp.pipeline"
      ]
    },
    {
      "cell_type": "code",
      "execution_count": 48,
      "metadata": {
        "id": "DjPs7A7iuj9j",
        "outputId": "be9022f1-f2d3-4734-da04-768718ba9eef",
        "colab": {
          "base_uri": "https://localhost:8080/"
        }
      },
      "outputs": [
        {
          "output_type": "execute_result",
          "data": {
            "text/plain": [
              "<spacy.pipeline.sentencizer.Sentencizer at 0x797863ab7300>"
            ]
          },
          "metadata": {},
          "execution_count": 48
        }
      ],
      "source": [
        "# errorda gosterdiyini yazirsan duzelir\n",
        "nlp.add_pipe('sentencizer')"
      ]
    },
    {
      "cell_type": "code",
      "execution_count": 49,
      "metadata": {
        "id": "Y9hdQSA0uj9k",
        "outputId": "0ce850b9-622b-4443-d56a-2dd64ff2002a",
        "colab": {
          "base_uri": "https://localhost:8080/"
        }
      },
      "outputs": [
        {
          "output_type": "stream",
          "name": "stdout",
          "text": [
            "Dr. Strange loves pav bhaji of mumbai.\n",
            "Hulk loves chat of delhi\n"
          ]
        }
      ],
      "source": [
        "doc = nlp(\"Dr. Strange loves pav bhaji of mumbai. Hulk loves chat of delhi\")\n",
        "for sentence in doc.sents:\n",
        "    print(sentence)"
      ]
    },
    {
      "cell_type": "code",
      "execution_count": 51,
      "metadata": {
        "id": "oDsc86E_uj9k",
        "outputId": "48709903-0be4-45f0-acb4-4bcc732feb0e",
        "colab": {
          "base_uri": "https://localhost:8080/"
        }
      },
      "outputs": [
        {
          "output_type": "execute_result",
          "data": {
            "text/plain": [
              "[('sentencizer', <spacy.pipeline.sentencizer.Sentencizer at 0x797863ab7300>)]"
            ]
          },
          "metadata": {},
          "execution_count": 51
        }
      ],
      "source": [
        "nlp.pipeline"
      ]
    },
    {
      "cell_type": "code",
      "source": [
        "nlp.pipe_names"
      ],
      "metadata": {
        "id": "YIORpSIWJmVq",
        "outputId": "753c680a-3633-4de9-dfb3-fd95ae8667e7",
        "colab": {
          "base_uri": "https://localhost:8080/"
        }
      },
      "execution_count": 52,
      "outputs": [
        {
          "output_type": "execute_result",
          "data": {
            "text/plain": [
              "['sentencizer']"
            ]
          },
          "metadata": {},
          "execution_count": 52
        }
      ]
    },
    {
      "cell_type": "markdown",
      "metadata": {
        "id": "SGvmmySiuj9l"
      },
      "source": [
        "<h3>Exercise</h3>"
      ]
    },
    {
      "cell_type": "markdown",
      "metadata": {
        "id": "cR1YwsPuuj9l"
      },
      "source": [
        "(1) Think stats is a free book to study statistics (https://greenteapress.com/thinkstats2/thinkstats2.pdf)\n",
        "\n",
        "This book has references to many websites from where you can download free datasets. You are an NLP engineer working for some company and you want to collect all dataset websites from this book. To keep exercise simple you are given a paragraph from this book and you want to grab all urls from this paragraph using spacy"
      ]
    },
    {
      "cell_type": "code",
      "execution_count": null,
      "metadata": {
        "id": "0JQ-6nr_uj9m"
      },
      "outputs": [],
      "source": [
        "text='''\n",
        "Look for data to help you address the question. Governments are good\n",
        "sources because data from public research is often freely available. Good\n",
        "places to start include http://www.data.gov/, and http://www.science.\n",
        "gov/, and in the United Kingdom, http://data.gov.uk/.\n",
        "Two of my favorite data sets are the General Social Survey at http://www3.norc.org/gss+website/,\n",
        "and the European Social Survey at http://www.europeansocialsurvey.org/.\n",
        "'''\n",
        "\n",
        "# TODO: Write code here\n",
        "# Hint: token has an attribute that can be used to detect a url"
      ]
    },
    {
      "cell_type": "markdown",
      "metadata": {
        "id": "e-H8z-9huj9m"
      },
      "source": [
        "(2) Extract all money transaction from below sentence along with currency. Output should be,\n",
        "\n",
        "two $\n",
        "\n",
        "500 €"
      ]
    },
    {
      "cell_type": "code",
      "execution_count": null,
      "metadata": {
        "id": "sYHVmXfvuj9n"
      },
      "outputs": [],
      "source": [
        "transactions = \"Tony gave two $ to Peter, Bruce gave 500 € to Steve\"\n",
        "\n",
        "# TODO: Write code here\n",
        "# Hint: Use token.i for the index of a token and token.is_currency for currency symbol detection"
      ]
    },
    {
      "cell_type": "markdown",
      "metadata": {
        "id": "6mNxSs7Tuj9n"
      },
      "source": [
        "[Click me to see a solution](https://github.com/codebasics/nlp-tutorials/blob/main/4_tokenization/spacy_tokenizer_exercise_solution.ipynb)"
      ]
    },
    {
      "cell_type": "markdown",
      "metadata": {
        "id": "KQ6spy47uj9n"
      },
      "source": [
        "<h3>Further Reading</h3>"
      ]
    },
    {
      "cell_type": "markdown",
      "metadata": {
        "id": "ChXmprO-uj9n"
      },
      "source": [
        "https://spacy.io/usage/linguistic-features#tokenization"
      ]
    }
  ],
  "metadata": {
    "kernelspec": {
      "display_name": "Python 3",
      "language": "python",
      "name": "python3"
    },
    "language_info": {
      "codemirror_mode": {
        "name": "ipython",
        "version": 3
      },
      "file_extension": ".py",
      "mimetype": "text/x-python",
      "name": "python",
      "nbconvert_exporter": "python",
      "pygments_lexer": "ipython3",
      "version": "3.8.5"
    },
    "colab": {
      "provenance": []
    }
  },
  "nbformat": 4,
  "nbformat_minor": 0
}